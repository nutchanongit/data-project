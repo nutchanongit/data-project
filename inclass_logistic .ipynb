{
  "nbformat": 4,
  "nbformat_minor": 0,
  "metadata": {
    "colab": {
      "provenance": []
    },
    "kernelspec": {
      "display_name": "Python 3",
      "language": "python",
      "name": "python3"
    }
  },
  "cells": [
    {
      "cell_type": "markdown",
      "metadata": {
        "id": "qBraCRa2EI-3"
      },
      "source": [
        "# Logistic Regression with Python\n",
        "\n",
        "For this lecture we will be working with the [Titanic Data Set from Kaggle](https://www.kaggle.com/c/titanic). This is a very famous data set and very often is a student's first step in machine learning!\n",
        "\n",
        "We'll be trying to predict a classification- survival or deceased.\n",
        "Let's begin our understanding of implementing Logistic Regression in Python for classification.\n",
        "\n",
        "We'll use a \"semi-cleaned\" version of the titanic data set, if you use the data set hosted directly on Kaggle, you may need to do some additional cleaning not shown in this lecture notebook.\n",
        "\n",
        "## Import Libraries\n",
        "Let's import some libraries to get started!"
      ]
    },
    {
      "cell_type": "code",
      "metadata": {
        "id": "dfzDHXzOEI-6"
      },
      "source": [
        "import pandas as pd\n",
        "import numpy as np\n",
        "import matplotlib.pyplot as plt\n",
        "import seaborn as sns"
      ],
      "execution_count": null,
      "outputs": []
    },
    {
      "cell_type": "markdown",
      "metadata": {
        "id": "eRLj36ANEI_A"
      },
      "source": [
        "# Load Data\n",
        "\n",
        "Let's start by reading in the titanic_train.csv file into a pandas dataframe."
      ]
    },
    {
      "cell_type": "code",
      "metadata": {
        "id": "q-gX66QzHyLh",
        "outputId": "48635dbd-f7e0-40d9-ca43-1d5e52f344ad",
        "colab": {
          "base_uri": "https://localhost:8080/"
        }
      },
      "source": [
        "!rm titanic_train.csv\n",
        "!wget https://github.com/davidjohnnn/all_datasets/raw/master/bay/titanic_train.csv"
      ],
      "execution_count": null,
      "outputs": [
        {
          "output_type": "stream",
          "name": "stdout",
          "text": [
            "rm: cannot remove 'titanic_train.csv': No such file or directory\n",
            "--2024-09-27 10:18:45--  https://github.com/davidjohnnn/all_datasets/raw/master/bay/titanic_train.csv\n",
            "Resolving github.com (github.com)... 140.82.121.3\n",
            "Connecting to github.com (github.com)|140.82.121.3|:443... connected.\n",
            "HTTP request sent, awaiting response... 302 Found\n",
            "Location: https://raw.githubusercontent.com/davidjohnnn/all_datasets/master/bay/titanic_train.csv [following]\n",
            "--2024-09-27 10:18:45--  https://raw.githubusercontent.com/davidjohnnn/all_datasets/master/bay/titanic_train.csv\n",
            "Resolving raw.githubusercontent.com (raw.githubusercontent.com)... 185.199.108.133, 185.199.109.133, 185.199.110.133, ...\n",
            "Connecting to raw.githubusercontent.com (raw.githubusercontent.com)|185.199.108.133|:443... connected.\n",
            "HTTP request sent, awaiting response... 200 OK\n",
            "Length: 60302 (59K) [text/plain]\n",
            "Saving to: ‘titanic_train.csv’\n",
            "\n",
            "titanic_train.csv   100%[===================>]  58.89K  --.-KB/s    in 0.004s  \n",
            "\n",
            "2024-09-27 10:18:45 (13.0 MB/s) - ‘titanic_train.csv’ saved [60302/60302]\n",
            "\n"
          ]
        }
      ]
    },
    {
      "cell_type": "code",
      "metadata": {
        "id": "7TDQqnPZEI_B"
      },
      "source": [
        "df = pd.read_csv('https://github.com/davidjohnnn/all_datasets/raw/master/bay/titanic_train.csv')"
      ],
      "execution_count": null,
      "outputs": []
    },
    {
      "cell_type": "code",
      "metadata": {
        "id": "lWaCqmM8EI_J",
        "outputId": "8bf4dab0-f196-48eb-d05a-419cce4d231c",
        "colab": {
          "base_uri": "https://localhost:8080/",
          "height": 206
        }
      },
      "source": [
        "df.head()"
      ],
      "execution_count": null,
      "outputs": [
        {
          "output_type": "execute_result",
          "data": {
            "text/plain": [
              "   PassengerId  Survived  Pclass  \\\n",
              "0            1         0       3   \n",
              "1            2         1       1   \n",
              "2            3         1       3   \n",
              "3            4         1       1   \n",
              "4            5         0       3   \n",
              "\n",
              "                                                Name     Sex   Age  SibSp  \\\n",
              "0                            Braund, Mr. Owen Harris    male  22.0      1   \n",
              "1  Cumings, Mrs. John Bradley (Florence Briggs Th...  female  38.0      1   \n",
              "2                             Heikkinen, Miss. Laina  female  26.0      0   \n",
              "3       Futrelle, Mrs. Jacques Heath (Lily May Peel)  female  35.0      1   \n",
              "4                           Allen, Mr. William Henry    male  35.0      0   \n",
              "\n",
              "   Parch            Ticket     Fare Cabin Embarked  \n",
              "0      0         A/5 21171   7.2500   NaN        S  \n",
              "1      0          PC 17599  71.2833   C85        C  \n",
              "2      0  STON/O2. 3101282   7.9250   NaN        S  \n",
              "3      0            113803  53.1000  C123        S  \n",
              "4      0            373450   8.0500   NaN        S  "
            ],
            "text/html": [
              "\n",
              "  <div id=\"df-d906fb71-b934-479c-bb22-77c172cd9a8a\" class=\"colab-df-container\">\n",
              "    <div>\n",
              "<style scoped>\n",
              "    .dataframe tbody tr th:only-of-type {\n",
              "        vertical-align: middle;\n",
              "    }\n",
              "\n",
              "    .dataframe tbody tr th {\n",
              "        vertical-align: top;\n",
              "    }\n",
              "\n",
              "    .dataframe thead th {\n",
              "        text-align: right;\n",
              "    }\n",
              "</style>\n",
              "<table border=\"1\" class=\"dataframe\">\n",
              "  <thead>\n",
              "    <tr style=\"text-align: right;\">\n",
              "      <th></th>\n",
              "      <th>PassengerId</th>\n",
              "      <th>Survived</th>\n",
              "      <th>Pclass</th>\n",
              "      <th>Name</th>\n",
              "      <th>Sex</th>\n",
              "      <th>Age</th>\n",
              "      <th>SibSp</th>\n",
              "      <th>Parch</th>\n",
              "      <th>Ticket</th>\n",
              "      <th>Fare</th>\n",
              "      <th>Cabin</th>\n",
              "      <th>Embarked</th>\n",
              "    </tr>\n",
              "  </thead>\n",
              "  <tbody>\n",
              "    <tr>\n",
              "      <th>0</th>\n",
              "      <td>1</td>\n",
              "      <td>0</td>\n",
              "      <td>3</td>\n",
              "      <td>Braund, Mr. Owen Harris</td>\n",
              "      <td>male</td>\n",
              "      <td>22.0</td>\n",
              "      <td>1</td>\n",
              "      <td>0</td>\n",
              "      <td>A/5 21171</td>\n",
              "      <td>7.2500</td>\n",
              "      <td>NaN</td>\n",
              "      <td>S</td>\n",
              "    </tr>\n",
              "    <tr>\n",
              "      <th>1</th>\n",
              "      <td>2</td>\n",
              "      <td>1</td>\n",
              "      <td>1</td>\n",
              "      <td>Cumings, Mrs. John Bradley (Florence Briggs Th...</td>\n",
              "      <td>female</td>\n",
              "      <td>38.0</td>\n",
              "      <td>1</td>\n",
              "      <td>0</td>\n",
              "      <td>PC 17599</td>\n",
              "      <td>71.2833</td>\n",
              "      <td>C85</td>\n",
              "      <td>C</td>\n",
              "    </tr>\n",
              "    <tr>\n",
              "      <th>2</th>\n",
              "      <td>3</td>\n",
              "      <td>1</td>\n",
              "      <td>3</td>\n",
              "      <td>Heikkinen, Miss. Laina</td>\n",
              "      <td>female</td>\n",
              "      <td>26.0</td>\n",
              "      <td>0</td>\n",
              "      <td>0</td>\n",
              "      <td>STON/O2. 3101282</td>\n",
              "      <td>7.9250</td>\n",
              "      <td>NaN</td>\n",
              "      <td>S</td>\n",
              "    </tr>\n",
              "    <tr>\n",
              "      <th>3</th>\n",
              "      <td>4</td>\n",
              "      <td>1</td>\n",
              "      <td>1</td>\n",
              "      <td>Futrelle, Mrs. Jacques Heath (Lily May Peel)</td>\n",
              "      <td>female</td>\n",
              "      <td>35.0</td>\n",
              "      <td>1</td>\n",
              "      <td>0</td>\n",
              "      <td>113803</td>\n",
              "      <td>53.1000</td>\n",
              "      <td>C123</td>\n",
              "      <td>S</td>\n",
              "    </tr>\n",
              "    <tr>\n",
              "      <th>4</th>\n",
              "      <td>5</td>\n",
              "      <td>0</td>\n",
              "      <td>3</td>\n",
              "      <td>Allen, Mr. William Henry</td>\n",
              "      <td>male</td>\n",
              "      <td>35.0</td>\n",
              "      <td>0</td>\n",
              "      <td>0</td>\n",
              "      <td>373450</td>\n",
              "      <td>8.0500</td>\n",
              "      <td>NaN</td>\n",
              "      <td>S</td>\n",
              "    </tr>\n",
              "  </tbody>\n",
              "</table>\n",
              "</div>\n",
              "    <div class=\"colab-df-buttons\">\n",
              "\n",
              "  <div class=\"colab-df-container\">\n",
              "    <button class=\"colab-df-convert\" onclick=\"convertToInteractive('df-d906fb71-b934-479c-bb22-77c172cd9a8a')\"\n",
              "            title=\"Convert this dataframe to an interactive table.\"\n",
              "            style=\"display:none;\">\n",
              "\n",
              "  <svg xmlns=\"http://www.w3.org/2000/svg\" height=\"24px\" viewBox=\"0 -960 960 960\">\n",
              "    <path d=\"M120-120v-720h720v720H120Zm60-500h600v-160H180v160Zm220 220h160v-160H400v160Zm0 220h160v-160H400v160ZM180-400h160v-160H180v160Zm440 0h160v-160H620v160ZM180-180h160v-160H180v160Zm440 0h160v-160H620v160Z\"/>\n",
              "  </svg>\n",
              "    </button>\n",
              "\n",
              "  <style>\n",
              "    .colab-df-container {\n",
              "      display:flex;\n",
              "      gap: 12px;\n",
              "    }\n",
              "\n",
              "    .colab-df-convert {\n",
              "      background-color: #E8F0FE;\n",
              "      border: none;\n",
              "      border-radius: 50%;\n",
              "      cursor: pointer;\n",
              "      display: none;\n",
              "      fill: #1967D2;\n",
              "      height: 32px;\n",
              "      padding: 0 0 0 0;\n",
              "      width: 32px;\n",
              "    }\n",
              "\n",
              "    .colab-df-convert:hover {\n",
              "      background-color: #E2EBFA;\n",
              "      box-shadow: 0px 1px 2px rgba(60, 64, 67, 0.3), 0px 1px 3px 1px rgba(60, 64, 67, 0.15);\n",
              "      fill: #174EA6;\n",
              "    }\n",
              "\n",
              "    .colab-df-buttons div {\n",
              "      margin-bottom: 4px;\n",
              "    }\n",
              "\n",
              "    [theme=dark] .colab-df-convert {\n",
              "      background-color: #3B4455;\n",
              "      fill: #D2E3FC;\n",
              "    }\n",
              "\n",
              "    [theme=dark] .colab-df-convert:hover {\n",
              "      background-color: #434B5C;\n",
              "      box-shadow: 0px 1px 3px 1px rgba(0, 0, 0, 0.15);\n",
              "      filter: drop-shadow(0px 1px 2px rgba(0, 0, 0, 0.3));\n",
              "      fill: #FFFFFF;\n",
              "    }\n",
              "  </style>\n",
              "\n",
              "    <script>\n",
              "      const buttonEl =\n",
              "        document.querySelector('#df-d906fb71-b934-479c-bb22-77c172cd9a8a button.colab-df-convert');\n",
              "      buttonEl.style.display =\n",
              "        google.colab.kernel.accessAllowed ? 'block' : 'none';\n",
              "\n",
              "      async function convertToInteractive(key) {\n",
              "        const element = document.querySelector('#df-d906fb71-b934-479c-bb22-77c172cd9a8a');\n",
              "        const dataTable =\n",
              "          await google.colab.kernel.invokeFunction('convertToInteractive',\n",
              "                                                    [key], {});\n",
              "        if (!dataTable) return;\n",
              "\n",
              "        const docLinkHtml = 'Like what you see? Visit the ' +\n",
              "          '<a target=\"_blank\" href=https://colab.research.google.com/notebooks/data_table.ipynb>data table notebook</a>'\n",
              "          + ' to learn more about interactive tables.';\n",
              "        element.innerHTML = '';\n",
              "        dataTable['output_type'] = 'display_data';\n",
              "        await google.colab.output.renderOutput(dataTable, element);\n",
              "        const docLink = document.createElement('div');\n",
              "        docLink.innerHTML = docLinkHtml;\n",
              "        element.appendChild(docLink);\n",
              "      }\n",
              "    </script>\n",
              "  </div>\n",
              "\n",
              "\n",
              "<div id=\"df-da3ea0d0-8f8f-4a88-9b6b-e7b34127786b\">\n",
              "  <button class=\"colab-df-quickchart\" onclick=\"quickchart('df-da3ea0d0-8f8f-4a88-9b6b-e7b34127786b')\"\n",
              "            title=\"Suggest charts\"\n",
              "            style=\"display:none;\">\n",
              "\n",
              "<svg xmlns=\"http://www.w3.org/2000/svg\" height=\"24px\"viewBox=\"0 0 24 24\"\n",
              "     width=\"24px\">\n",
              "    <g>\n",
              "        <path d=\"M19 3H5c-1.1 0-2 .9-2 2v14c0 1.1.9 2 2 2h14c1.1 0 2-.9 2-2V5c0-1.1-.9-2-2-2zM9 17H7v-7h2v7zm4 0h-2V7h2v10zm4 0h-2v-4h2v4z\"/>\n",
              "    </g>\n",
              "</svg>\n",
              "  </button>\n",
              "\n",
              "<style>\n",
              "  .colab-df-quickchart {\n",
              "      --bg-color: #E8F0FE;\n",
              "      --fill-color: #1967D2;\n",
              "      --hover-bg-color: #E2EBFA;\n",
              "      --hover-fill-color: #174EA6;\n",
              "      --disabled-fill-color: #AAA;\n",
              "      --disabled-bg-color: #DDD;\n",
              "  }\n",
              "\n",
              "  [theme=dark] .colab-df-quickchart {\n",
              "      --bg-color: #3B4455;\n",
              "      --fill-color: #D2E3FC;\n",
              "      --hover-bg-color: #434B5C;\n",
              "      --hover-fill-color: #FFFFFF;\n",
              "      --disabled-bg-color: #3B4455;\n",
              "      --disabled-fill-color: #666;\n",
              "  }\n",
              "\n",
              "  .colab-df-quickchart {\n",
              "    background-color: var(--bg-color);\n",
              "    border: none;\n",
              "    border-radius: 50%;\n",
              "    cursor: pointer;\n",
              "    display: none;\n",
              "    fill: var(--fill-color);\n",
              "    height: 32px;\n",
              "    padding: 0;\n",
              "    width: 32px;\n",
              "  }\n",
              "\n",
              "  .colab-df-quickchart:hover {\n",
              "    background-color: var(--hover-bg-color);\n",
              "    box-shadow: 0 1px 2px rgba(60, 64, 67, 0.3), 0 1px 3px 1px rgba(60, 64, 67, 0.15);\n",
              "    fill: var(--button-hover-fill-color);\n",
              "  }\n",
              "\n",
              "  .colab-df-quickchart-complete:disabled,\n",
              "  .colab-df-quickchart-complete:disabled:hover {\n",
              "    background-color: var(--disabled-bg-color);\n",
              "    fill: var(--disabled-fill-color);\n",
              "    box-shadow: none;\n",
              "  }\n",
              "\n",
              "  .colab-df-spinner {\n",
              "    border: 2px solid var(--fill-color);\n",
              "    border-color: transparent;\n",
              "    border-bottom-color: var(--fill-color);\n",
              "    animation:\n",
              "      spin 1s steps(1) infinite;\n",
              "  }\n",
              "\n",
              "  @keyframes spin {\n",
              "    0% {\n",
              "      border-color: transparent;\n",
              "      border-bottom-color: var(--fill-color);\n",
              "      border-left-color: var(--fill-color);\n",
              "    }\n",
              "    20% {\n",
              "      border-color: transparent;\n",
              "      border-left-color: var(--fill-color);\n",
              "      border-top-color: var(--fill-color);\n",
              "    }\n",
              "    30% {\n",
              "      border-color: transparent;\n",
              "      border-left-color: var(--fill-color);\n",
              "      border-top-color: var(--fill-color);\n",
              "      border-right-color: var(--fill-color);\n",
              "    }\n",
              "    40% {\n",
              "      border-color: transparent;\n",
              "      border-right-color: var(--fill-color);\n",
              "      border-top-color: var(--fill-color);\n",
              "    }\n",
              "    60% {\n",
              "      border-color: transparent;\n",
              "      border-right-color: var(--fill-color);\n",
              "    }\n",
              "    80% {\n",
              "      border-color: transparent;\n",
              "      border-right-color: var(--fill-color);\n",
              "      border-bottom-color: var(--fill-color);\n",
              "    }\n",
              "    90% {\n",
              "      border-color: transparent;\n",
              "      border-bottom-color: var(--fill-color);\n",
              "    }\n",
              "  }\n",
              "</style>\n",
              "\n",
              "  <script>\n",
              "    async function quickchart(key) {\n",
              "      const quickchartButtonEl =\n",
              "        document.querySelector('#' + key + ' button');\n",
              "      quickchartButtonEl.disabled = true;  // To prevent multiple clicks.\n",
              "      quickchartButtonEl.classList.add('colab-df-spinner');\n",
              "      try {\n",
              "        const charts = await google.colab.kernel.invokeFunction(\n",
              "            'suggestCharts', [key], {});\n",
              "      } catch (error) {\n",
              "        console.error('Error during call to suggestCharts:', error);\n",
              "      }\n",
              "      quickchartButtonEl.classList.remove('colab-df-spinner');\n",
              "      quickchartButtonEl.classList.add('colab-df-quickchart-complete');\n",
              "    }\n",
              "    (() => {\n",
              "      let quickchartButtonEl =\n",
              "        document.querySelector('#df-da3ea0d0-8f8f-4a88-9b6b-e7b34127786b button');\n",
              "      quickchartButtonEl.style.display =\n",
              "        google.colab.kernel.accessAllowed ? 'block' : 'none';\n",
              "    })();\n",
              "  </script>\n",
              "</div>\n",
              "\n",
              "    </div>\n",
              "  </div>\n"
            ],
            "application/vnd.google.colaboratory.intrinsic+json": {
              "type": "dataframe",
              "variable_name": "df",
              "summary": "{\n  \"name\": \"df\",\n  \"rows\": 891,\n  \"fields\": [\n    {\n      \"column\": \"PassengerId\",\n      \"properties\": {\n        \"dtype\": \"number\",\n        \"std\": 257,\n        \"min\": 1,\n        \"max\": 891,\n        \"num_unique_values\": 891,\n        \"samples\": [\n          710,\n          440,\n          841\n        ],\n        \"semantic_type\": \"\",\n        \"description\": \"\"\n      }\n    },\n    {\n      \"column\": \"Survived\",\n      \"properties\": {\n        \"dtype\": \"number\",\n        \"std\": 0,\n        \"min\": 0,\n        \"max\": 1,\n        \"num_unique_values\": 2,\n        \"samples\": [\n          1,\n          0\n        ],\n        \"semantic_type\": \"\",\n        \"description\": \"\"\n      }\n    },\n    {\n      \"column\": \"Pclass\",\n      \"properties\": {\n        \"dtype\": \"number\",\n        \"std\": 0,\n        \"min\": 1,\n        \"max\": 3,\n        \"num_unique_values\": 3,\n        \"samples\": [\n          3,\n          1\n        ],\n        \"semantic_type\": \"\",\n        \"description\": \"\"\n      }\n    },\n    {\n      \"column\": \"Name\",\n      \"properties\": {\n        \"dtype\": \"string\",\n        \"num_unique_values\": 891,\n        \"samples\": [\n          \"Moubarek, Master. Halim Gonios (\\\"William George\\\")\",\n          \"Kvillner, Mr. Johan Henrik Johannesson\"\n        ],\n        \"semantic_type\": \"\",\n        \"description\": \"\"\n      }\n    },\n    {\n      \"column\": \"Sex\",\n      \"properties\": {\n        \"dtype\": \"category\",\n        \"num_unique_values\": 2,\n        \"samples\": [\n          \"female\",\n          \"male\"\n        ],\n        \"semantic_type\": \"\",\n        \"description\": \"\"\n      }\n    },\n    {\n      \"column\": \"Age\",\n      \"properties\": {\n        \"dtype\": \"number\",\n        \"std\": 14.526497332334042,\n        \"min\": 0.42,\n        \"max\": 80.0,\n        \"num_unique_values\": 88,\n        \"samples\": [\n          0.75,\n          22.0\n        ],\n        \"semantic_type\": \"\",\n        \"description\": \"\"\n      }\n    },\n    {\n      \"column\": \"SibSp\",\n      \"properties\": {\n        \"dtype\": \"number\",\n        \"std\": 1,\n        \"min\": 0,\n        \"max\": 8,\n        \"num_unique_values\": 7,\n        \"samples\": [\n          1,\n          0\n        ],\n        \"semantic_type\": \"\",\n        \"description\": \"\"\n      }\n    },\n    {\n      \"column\": \"Parch\",\n      \"properties\": {\n        \"dtype\": \"number\",\n        \"std\": 0,\n        \"min\": 0,\n        \"max\": 6,\n        \"num_unique_values\": 7,\n        \"samples\": [\n          0,\n          1\n        ],\n        \"semantic_type\": \"\",\n        \"description\": \"\"\n      }\n    },\n    {\n      \"column\": \"Ticket\",\n      \"properties\": {\n        \"dtype\": \"string\",\n        \"num_unique_values\": 681,\n        \"samples\": [\n          \"11774\",\n          \"248740\"\n        ],\n        \"semantic_type\": \"\",\n        \"description\": \"\"\n      }\n    },\n    {\n      \"column\": \"Fare\",\n      \"properties\": {\n        \"dtype\": \"number\",\n        \"std\": 49.6934285971809,\n        \"min\": 0.0,\n        \"max\": 512.3292,\n        \"num_unique_values\": 248,\n        \"samples\": [\n          11.2417,\n          51.8625\n        ],\n        \"semantic_type\": \"\",\n        \"description\": \"\"\n      }\n    },\n    {\n      \"column\": \"Cabin\",\n      \"properties\": {\n        \"dtype\": \"category\",\n        \"num_unique_values\": 147,\n        \"samples\": [\n          \"D45\",\n          \"B49\"\n        ],\n        \"semantic_type\": \"\",\n        \"description\": \"\"\n      }\n    },\n    {\n      \"column\": \"Embarked\",\n      \"properties\": {\n        \"dtype\": \"category\",\n        \"num_unique_values\": 3,\n        \"samples\": [\n          \"S\",\n          \"C\"\n        ],\n        \"semantic_type\": \"\",\n        \"description\": \"\"\n      }\n    }\n  ]\n}"
            }
          },
          "metadata": {},
          "execution_count": 6
        }
      ]
    },
    {
      "cell_type": "code",
      "metadata": {
        "id": "n0cy1ejqzexF"
      },
      "source": [
        "df.drop('PassengerId',axis=1,inplace=True)"
      ],
      "execution_count": null,
      "outputs": []
    },
    {
      "cell_type": "code",
      "metadata": {
        "id": "FUpvGIrv6GgO"
      },
      "source": [
        "# simple version & keep only Age, Sex, Survived\n",
        "# in the full version, remove this code\n",
        "df = df[['Age', 'Sex', 'Survived', 'Pclass' , 'SibSp', 'Parch', 'Fare' ,'Cabin', 'Embarked']]"
      ],
      "execution_count": null,
      "outputs": []
    },
    {
      "cell_type": "code",
      "source": [
        "cabin_counts = df['Cabin'].value_counts()\n",
        "Embarked_count = df['Embarked'].value_counts()\n",
        "\n",
        "cabin_counts\n",
        "Embarked_count\n",
        "df['Deck'] = df['Cabin'].str[0]\n",
        "df.drop('Cabin',axis=1,inplace=True)\n",
        "df.head()\n",
        "Deck_count = df['Deck'].value_counts()\n",
        "Deck_count"
      ],
      "metadata": {
        "colab": {
          "base_uri": "https://localhost:8080/",
          "height": 366
        },
        "id": "vxmFuBX8k-v1",
        "outputId": "30b8046f-a917-4335-f9c9-f1aa2c5d7452"
      },
      "execution_count": null,
      "outputs": [
        {
          "output_type": "execute_result",
          "data": {
            "text/plain": [
              "Deck\n",
              "C    59\n",
              "B    47\n",
              "D    33\n",
              "E    32\n",
              "A    15\n",
              "F    13\n",
              "G     4\n",
              "T     1\n",
              "Name: count, dtype: int64"
            ],
            "text/html": [
              "<div>\n",
              "<style scoped>\n",
              "    .dataframe tbody tr th:only-of-type {\n",
              "        vertical-align: middle;\n",
              "    }\n",
              "\n",
              "    .dataframe tbody tr th {\n",
              "        vertical-align: top;\n",
              "    }\n",
              "\n",
              "    .dataframe thead th {\n",
              "        text-align: right;\n",
              "    }\n",
              "</style>\n",
              "<table border=\"1\" class=\"dataframe\">\n",
              "  <thead>\n",
              "    <tr style=\"text-align: right;\">\n",
              "      <th></th>\n",
              "      <th>count</th>\n",
              "    </tr>\n",
              "    <tr>\n",
              "      <th>Deck</th>\n",
              "      <th></th>\n",
              "    </tr>\n",
              "  </thead>\n",
              "  <tbody>\n",
              "    <tr>\n",
              "      <th>C</th>\n",
              "      <td>59</td>\n",
              "    </tr>\n",
              "    <tr>\n",
              "      <th>B</th>\n",
              "      <td>47</td>\n",
              "    </tr>\n",
              "    <tr>\n",
              "      <th>D</th>\n",
              "      <td>33</td>\n",
              "    </tr>\n",
              "    <tr>\n",
              "      <th>E</th>\n",
              "      <td>32</td>\n",
              "    </tr>\n",
              "    <tr>\n",
              "      <th>A</th>\n",
              "      <td>15</td>\n",
              "    </tr>\n",
              "    <tr>\n",
              "      <th>F</th>\n",
              "      <td>13</td>\n",
              "    </tr>\n",
              "    <tr>\n",
              "      <th>G</th>\n",
              "      <td>4</td>\n",
              "    </tr>\n",
              "    <tr>\n",
              "      <th>T</th>\n",
              "      <td>1</td>\n",
              "    </tr>\n",
              "  </tbody>\n",
              "</table>\n",
              "</div><br><label><b>dtype:</b> int64</label>"
            ]
          },
          "metadata": {},
          "execution_count": 9
        }
      ]
    },
    {
      "cell_type": "markdown",
      "metadata": {
        "id": "i6yE4sIoEI_T"
      },
      "source": [
        "# Prepare Data\n",
        "\n",
        "Let's begin some exploratory data analysis! We'll start by checking out missing data!\n",
        "\n"
      ]
    },
    {
      "cell_type": "markdown",
      "metadata": {
        "id": "egguIkbRxzBk"
      },
      "source": [
        "## Check Missing Data\n",
        "\n",
        "We can use seaborn to create a simple heatmap to see where we are missing data!"
      ]
    },
    {
      "cell_type": "code",
      "metadata": {
        "id": "ChzDi_PeEI_V",
        "outputId": "d4ca5816-ee31-48e9-a411-5d4ae2b670e5",
        "colab": {
          "base_uri": "https://localhost:8080/"
        }
      },
      "source": [
        "df.info()"
      ],
      "execution_count": null,
      "outputs": [
        {
          "output_type": "stream",
          "name": "stdout",
          "text": [
            "<class 'pandas.core.frame.DataFrame'>\n",
            "RangeIndex: 891 entries, 0 to 890\n",
            "Data columns (total 9 columns):\n",
            " #   Column    Non-Null Count  Dtype  \n",
            "---  ------    --------------  -----  \n",
            " 0   Age       714 non-null    float64\n",
            " 1   Sex       891 non-null    object \n",
            " 2   Survived  891 non-null    int64  \n",
            " 3   Pclass    891 non-null    int64  \n",
            " 4   SibSp     891 non-null    int64  \n",
            " 5   Parch     891 non-null    int64  \n",
            " 6   Fare      891 non-null    float64\n",
            " 7   Embarked  889 non-null    object \n",
            " 8   Deck      204 non-null    object \n",
            "dtypes: float64(2), int64(4), object(3)\n",
            "memory usage: 62.8+ KB\n"
          ]
        }
      ]
    },
    {
      "cell_type": "markdown",
      "metadata": {
        "id": "xdRyPCsPEI_a"
      },
      "source": [
        "Roughly 20 percent of the Age data is missing. The proportion of Age missing is likely small enough for reasonable replacement with some form of imputation. Looking at the Cabin column, it looks like we are just missing too much of that data to do something useful with at a basic level. We'll probably drop this later, or change it to another feature like \"Cabin Known: 1 or 0\"\n",
        "\n",
        "Let's continue on by visualizing some more of the data! Check out the video for full explanations over these plots, this code is just to serve as reference."
      ]
    },
    {
      "cell_type": "code",
      "metadata": {
        "id": "U44rM-srEI_b",
        "outputId": "f1e51e7c-269e-41d0-d071-ce6851d02640",
        "colab": {
          "base_uri": "https://localhost:8080/",
          "height": 541
        }
      },
      "source": [
        "print(df['Survived'].value_counts())\n",
        "sns.countplot(x='Survived', data=df)"
      ],
      "execution_count": null,
      "outputs": [
        {
          "output_type": "stream",
          "name": "stdout",
          "text": [
            "Survived\n",
            "0    549\n",
            "1    342\n",
            "Name: count, dtype: int64\n"
          ]
        },
        {
          "output_type": "execute_result",
          "data": {
            "text/plain": [
              "<Axes: xlabel='Survived', ylabel='count'>"
            ]
          },
          "metadata": {},
          "execution_count": 11
        },
        {
          "output_type": "display_data",
          "data": {
            "text/plain": [
              "<Figure size 640x480 with 1 Axes>"
            ],
            "image/png": "[encoded data removed]"
          },
          "metadata": {}
        }
      ]
    },
    {
      "cell_type": "markdown",
      "metadata": {
        "id": "dfxEbqnDEJAF"
      },
      "source": [
        "___\n",
        "## Data Cleansing\n"
      ]
    },
    {
      "cell_type": "code",
      "source": [
        "def impute_age(cols):\n",
        "    Age = cols[0]\n",
        "    Pclass = cols[1]\n",
        "\n",
        "    if pd.isnull(Age):  # Check if Age is NaN\n",
        "        if Pclass == 1:\n",
        "            return df[df['Pclass'] == 1]['Age'].mean()  # Mean Age for Pclass 1\n",
        "        elif Pclass == 2:\n",
        "            return df[df['Pclass'] == 2]['Age'].mean()  # Mean Age for Pclass 2\n",
        "        else:\n",
        "            return df[df['Pclass'] == 3]['Age'].mean()  # Mean Age for Pclass 3\n",
        "    else:\n",
        "        return Age  # If Age is not NaN, return it as is\n",
        "\n",
        "# Apply the function to impute Age\n",
        "df['Age'] = df[['Age', 'Pclass']].apply(impute_age, axis=1)"
      ],
      "metadata": {
        "colab": {
          "base_uri": "https://localhost:8080/"
        },
        "id": "_VowXhT2u01p",
        "outputId": "ceacbefe-e4c6-450e-c11f-900a9259928a"
      },
      "execution_count": null,
      "outputs": [
        {
          "output_type": "stream",
          "name": "stderr",
          "text": [
            "<ipython-input-244-1a082380a51c>:2: FutureWarning: Series.__getitem__ treating keys as positions is deprecated. In a future version, integer keys will always be treated as labels (consistent with DataFrame behavior). To access a value by position, use `ser.iloc[pos]`\n",
            "  Age = cols[0]\n",
            "<ipython-input-244-1a082380a51c>:3: FutureWarning: Series.__getitem__ treating keys as positions is deprecated. In a future version, integer keys will always be treated as labels (consistent with DataFrame behavior). To access a value by position, use `ser.iloc[pos]`\n",
            "  Pclass = cols[1]\n"
          ]
        }
      ]
    },
    {
      "cell_type": "code",
      "metadata": {
        "id": "Vz7JsZ9PEJAH",
        "colab": {
          "base_uri": "https://localhost:8080/"
        },
        "outputId": "a4bd5f45-8490-45c8-ec6e-c00fab1fc90b"
      },
      "source": [
        "df['Age'] = df[['Age', 'Pclass']].apply(impute_age, axis=1)\n",
        "df['Embarked'].fillna(df['Embarked'].mode()[0], inplace=True)\n",
        "df['Deck'].fillna('Unknown', inplace=True)"
      ],
      "execution_count": null,
      "outputs": [
        {
          "output_type": "stream",
          "name": "stderr",
          "text": [
            "<ipython-input-244-1a082380a51c>:2: FutureWarning: Series.__getitem__ treating keys as positions is deprecated. In a future version, integer keys will always be treated as labels (consistent with DataFrame behavior). To access a value by position, use `ser.iloc[pos]`\n",
            "  Age = cols[0]\n",
            "<ipython-input-244-1a082380a51c>:3: FutureWarning: Series.__getitem__ treating keys as positions is deprecated. In a future version, integer keys will always be treated as labels (consistent with DataFrame behavior). To access a value by position, use `ser.iloc[pos]`\n",
            "  Pclass = cols[1]\n"
          ]
        }
      ]
    },
    {
      "cell_type": "code",
      "metadata": {
        "id": "mr6iqdKXutxG",
        "outputId": "22bc51f6-5eb0-44ea-fdc3-37629feef17c",
        "colab": {
          "base_uri": "https://localhost:8080/"
        }
      },
      "source": [
        "# check again!\n",
        "df.info()"
      ],
      "execution_count": null,
      "outputs": [
        {
          "output_type": "stream",
          "name": "stdout",
          "text": [
            "<class 'pandas.core.frame.DataFrame'>\n",
            "RangeIndex: 891 entries, 0 to 890\n",
            "Data columns (total 9 columns):\n",
            " #   Column    Non-Null Count  Dtype  \n",
            "---  ------    --------------  -----  \n",
            " 0   Age       891 non-null    float64\n",
            " 1   Sex       891 non-null    object \n",
            " 2   Survived  891 non-null    int64  \n",
            " 3   Pclass    891 non-null    int64  \n",
            " 4   SibSp     891 non-null    int64  \n",
            " 5   Parch     891 non-null    int64  \n",
            " 6   Fare      891 non-null    float64\n",
            " 7   Embarked  891 non-null    object \n",
            " 8   Deck      891 non-null    object \n",
            "dtypes: float64(2), int64(4), object(3)\n",
            "memory usage: 62.8+ KB\n"
          ]
        }
      ]
    },
    {
      "cell_type": "markdown",
      "metadata": {
        "id": "6aD0H41OEJAn"
      },
      "source": [
        "## Converting Categorical Features\n",
        "\n",
        "We'll need to convert categorical features to dummy variables using pandas! Otherwise our machine learning algorithm won't be able to directly take in those features as inputs."
      ]
    },
    {
      "cell_type": "code",
      "metadata": {
        "id": "hBPNp798EJAt"
      },
      "source": [
        "sex = pd.get_dummies(df['Sex'],drop_first=True)\n",
        "deck = pd.get_dummies(df['Deck'],drop_first=True)\n",
        "embraked = pd.get_dummies(df['Embarked'],drop_first=True)"
      ],
      "execution_count": null,
      "outputs": []
    },
    {
      "cell_type": "code",
      "metadata": {
        "id": "iJ1ZkRh7631L",
        "outputId": "65c5a092-3cb7-486d-e32b-24edb3593261",
        "colab": {
          "base_uri": "https://localhost:8080/",
          "height": 143
        }
      },
      "source": [
        "sex.head(3)\n",
        "deck.head(3)\n",
        "embraked.head(3)"
      ],
      "execution_count": null,
      "outputs": [
        {
          "output_type": "execute_result",
          "data": {
            "text/plain": [
              "       Q      S\n",
              "0  False   True\n",
              "1  False  False\n",
              "2  False   True"
            ],
            "text/html": [
              "\n",
              "  <div id=\"df-2693d634-e084-4a4b-aae9-2057fad713aa\" class=\"colab-df-container\">\n",
              "    <div>\n",
              "<style scoped>\n",
              "    .dataframe tbody tr th:only-of-type {\n",
              "        vertical-align: middle;\n",
              "    }\n",
              "\n",
              "    .dataframe tbody tr th {\n",
              "        vertical-align: top;\n",
              "    }\n",
              "\n",
              "    .dataframe thead th {\n",
              "        text-align: right;\n",
              "    }\n",
              "</style>\n",
              "<table border=\"1\" class=\"dataframe\">\n",
              "  <thead>\n",
              "    <tr style=\"text-align: right;\">\n",
              "      <th></th>\n",
              "      <th>Q</th>\n",
              "      <th>S</th>\n",
              "    </tr>\n",
              "  </thead>\n",
              "  <tbody>\n",
              "    <tr>\n",
              "      <th>0</th>\n",
              "      <td>False</td>\n",
              "      <td>True</td>\n",
              "    </tr>\n",
              "    <tr>\n",
              "      <th>1</th>\n",
              "      <td>False</td>\n",
              "      <td>False</td>\n",
              "    </tr>\n",
              "    <tr>\n",
              "      <th>2</th>\n",
              "      <td>False</td>\n",
              "      <td>True</td>\n",
              "    </tr>\n",
              "  </tbody>\n",
              "</table>\n",
              "</div>\n",
              "    <div class=\"colab-df-buttons\">\n",
              "\n",
              "  <div class=\"colab-df-container\">\n",
              "    <button class=\"colab-df-convert\" onclick=\"convertToInteractive('df-2693d634-e084-4a4b-aae9-2057fad713aa')\"\n",
              "            title=\"Convert this dataframe to an interactive table.\"\n",
              "            style=\"display:none;\">\n",
              "\n",
              "  <svg xmlns=\"http://www.w3.org/2000/svg\" height=\"24px\" viewBox=\"0 -960 960 960\">\n",
              "    <path d=\"M120-120v-720h720v720H120Zm60-500h600v-160H180v160Zm220 220h160v-160H400v160Zm0 220h160v-160H400v160ZM180-400h160v-160H180v160Zm440 0h160v-160H620v160ZM180-180h160v-160H180v160Zm440 0h160v-160H620v160Z\"/>\n",
              "  </svg>\n",
              "    </button>\n",
              "\n",
              "  <style>\n",
              "    .colab-df-container {\n",
              "      display:flex;\n",
              "      gap: 12px;\n",
              "    }\n",
              "\n",
              "    .colab-df-convert {\n",
              "      background-color: #E8F0FE;\n",
              "      border: none;\n",
              "      border-radius: 50%;\n",
              "      cursor: pointer;\n",
              "      display: none;\n",
              "      fill: #1967D2;\n",
              "      height: 32px;\n",
              "      padding: 0 0 0 0;\n",
              "      width: 32px;\n",
              "    }\n",
              "\n",
              "    .colab-df-convert:hover {\n",
              "      background-color: #E2EBFA;\n",
              "      box-shadow: 0px 1px 2px rgba(60, 64, 67, 0.3), 0px 1px 3px 1px rgba(60, 64, 67, 0.15);\n",
              "      fill: #174EA6;\n",
              "    }\n",
              "\n",
              "    .colab-df-buttons div {\n",
              "      margin-bottom: 4px;\n",
              "    }\n",
              "\n",
              "    [theme=dark] .colab-df-convert {\n",
              "      background-color: #3B4455;\n",
              "      fill: #D2E3FC;\n",
              "    }\n",
              "\n",
              "    [theme=dark] .colab-df-convert:hover {\n",
              "      background-color: #434B5C;\n",
              "      box-shadow: 0px 1px 3px 1px rgba(0, 0, 0, 0.15);\n",
              "      filter: drop-shadow(0px 1px 2px rgba(0, 0, 0, 0.3));\n",
              "      fill: #FFFFFF;\n",
              "    }\n",
              "  </style>\n",
              "\n",
              "    <script>\n",
              "      const buttonEl =\n",
              "        document.querySelector('#df-2693d634-e084-4a4b-aae9-2057fad713aa button.colab-df-convert');\n",
              "      buttonEl.style.display =\n",
              "        google.colab.kernel.accessAllowed ? 'block' : 'none';\n",
              "\n",
              "      async function convertToInteractive(key) {\n",
              "        const element = document.querySelector('#df-2693d634-e084-4a4b-aae9-2057fad713aa');\n",
              "        const dataTable =\n",
              "          await google.colab.kernel.invokeFunction('convertToInteractive',\n",
              "                                                    [key], {});\n",
              "        if (!dataTable) return;\n",
              "\n",
              "        const docLinkHtml = 'Like what you see? Visit the ' +\n",
              "          '<a target=\"_blank\" href=https://colab.research.google.com/notebooks/data_table.ipynb>data table notebook</a>'\n",
              "          + ' to learn more about interactive tables.';\n",
              "        element.innerHTML = '';\n",
              "        dataTable['output_type'] = 'display_data';\n",
              "        await google.colab.output.renderOutput(dataTable, element);\n",
              "        const docLink = document.createElement('div');\n",
              "        docLink.innerHTML = docLinkHtml;\n",
              "        element.appendChild(docLink);\n",
              "      }\n",
              "    </script>\n",
              "  </div>\n",
              "\n",
              "\n",
              "<div id=\"df-4e7dbf82-79f3-4c66-b15f-4c2fc3b72cc4\">\n",
              "  <button class=\"colab-df-quickchart\" onclick=\"quickchart('df-4e7dbf82-79f3-4c66-b15f-4c2fc3b72cc4')\"\n",
              "            title=\"Suggest charts\"\n",
              "            style=\"display:none;\">\n",
              "\n",
              "<svg xmlns=\"http://www.w3.org/2000/svg\" height=\"24px\"viewBox=\"0 0 24 24\"\n",
              "     width=\"24px\">\n",
              "    <g>\n",
              "        <path d=\"M19 3H5c-1.1 0-2 .9-2 2v14c0 1.1.9 2 2 2h14c1.1 0 2-.9 2-2V5c0-1.1-.9-2-2-2zM9 17H7v-7h2v7zm4 0h-2V7h2v10zm4 0h-2v-4h2v4z\"/>\n",
              "    </g>\n",
              "</svg>\n",
              "  </button>\n",
              "\n",
              "<style>\n",
              "  .colab-df-quickchart {\n",
              "      --bg-color: #E8F0FE;\n",
              "      --fill-color: #1967D2;\n",
              "      --hover-bg-color: #E2EBFA;\n",
              "      --hover-fill-color: #174EA6;\n",
              "      --disabled-fill-color: #AAA;\n",
              "      --disabled-bg-color: #DDD;\n",
              "  }\n",
              "\n",
              "  [theme=dark] .colab-df-quickchart {\n",
              "      --bg-color: #3B4455;\n",
              "      --fill-color: #D2E3FC;\n",
              "      --hover-bg-color: #434B5C;\n",
              "      --hover-fill-color: #FFFFFF;\n",
              "      --disabled-bg-color: #3B4455;\n",
              "      --disabled-fill-color: #666;\n",
              "  }\n",
              "\n",
              "  .colab-df-quickchart {\n",
              "    background-color: var(--bg-color);\n",
              "    border: none;\n",
              "    border-radius: 50%;\n",
              "    cursor: pointer;\n",
              "    display: none;\n",
              "    fill: var(--fill-color);\n",
              "    height: 32px;\n",
              "    padding: 0;\n",
              "    width: 32px;\n",
              "  }\n",
              "\n",
              "  .colab-df-quickchart:hover {\n",
              "    background-color: var(--hover-bg-color);\n",
              "    box-shadow: 0 1px 2px rgba(60, 64, 67, 0.3), 0 1px 3px 1px rgba(60, 64, 67, 0.15);\n",
              "    fill: var(--button-hover-fill-color);\n",
              "  }\n",
              "\n",
              "  .colab-df-quickchart-complete:disabled,\n",
              "  .colab-df-quickchart-complete:disabled:hover {\n",
              "    background-color: var(--disabled-bg-color);\n",
              "    fill: var(--disabled-fill-color);\n",
              "    box-shadow: none;\n",
              "  }\n",
              "\n",
              "  .colab-df-spinner {\n",
              "    border: 2px solid var(--fill-color);\n",
              "    border-color: transparent;\n",
              "    border-bottom-color: var(--fill-color);\n",
              "    animation:\n",
              "      spin 1s steps(1) infinite;\n",
              "  }\n",
              "\n",
              "  @keyframes spin {\n",
              "    0% {\n",
              "      border-color: transparent;\n",
              "      border-bottom-color: var(--fill-color);\n",
              "      border-left-color: var(--fill-color);\n",
              "    }\n",
              "    20% {\n",
              "      border-color: transparent;\n",
              "      border-left-color: var(--fill-color);\n",
              "      border-top-color: var(--fill-color);\n",
              "    }\n",
              "    30% {\n",
              "      border-color: transparent;\n",
              "      border-left-color: var(--fill-color);\n",
              "      border-top-color: var(--fill-color);\n",
              "      border-right-color: var(--fill-color);\n",
              "    }\n",
              "    40% {\n",
              "      border-color: transparent;\n",
              "      border-right-color: var(--fill-color);\n",
              "      border-top-color: var(--fill-color);\n",
              "    }\n",
              "    60% {\n",
              "      border-color: transparent;\n",
              "      border-right-color: var(--fill-color);\n",
              "    }\n",
              "    80% {\n",
              "      border-color: transparent;\n",
              "      border-right-color: var(--fill-color);\n",
              "      border-bottom-color: var(--fill-color);\n",
              "    }\n",
              "    90% {\n",
              "      border-color: transparent;\n",
              "      border-bottom-color: var(--fill-color);\n",
              "    }\n",
              "  }\n",
              "</style>\n",
              "\n",
              "  <script>\n",
              "    async function quickchart(key) {\n",
              "      const quickchartButtonEl =\n",
              "        document.querySelector('#' + key + ' button');\n",
              "      quickchartButtonEl.disabled = true;  // To prevent multiple clicks.\n",
              "      quickchartButtonEl.classList.add('colab-df-spinner');\n",
              "      try {\n",
              "        const charts = await google.colab.kernel.invokeFunction(\n",
              "            'suggestCharts', [key], {});\n",
              "      } catch (error) {\n",
              "        console.error('Error during call to suggestCharts:', error);\n",
              "      }\n",
              "      quickchartButtonEl.classList.remove('colab-df-spinner');\n",
              "      quickchartButtonEl.classList.add('colab-df-quickchart-complete');\n",
              "    }\n",
              "    (() => {\n",
              "      let quickchartButtonEl =\n",
              "        document.querySelector('#df-4e7dbf82-79f3-4c66-b15f-4c2fc3b72cc4 button');\n",
              "      quickchartButtonEl.style.display =\n",
              "        google.colab.kernel.accessAllowed ? 'block' : 'none';\n",
              "    })();\n",
              "  </script>\n",
              "</div>\n",
              "\n",
              "    </div>\n",
              "  </div>\n"
            ],
            "application/vnd.google.colaboratory.intrinsic+json": {
              "type": "dataframe",
              "variable_name": "embraked",
              "summary": "{\n  \"name\": \"embraked\",\n  \"rows\": 891,\n  \"fields\": [\n    {\n      \"column\": \"Q\",\n      \"properties\": {\n        \"dtype\": \"boolean\",\n        \"num_unique_values\": 2,\n        \"samples\": [\n          true,\n          false\n        ],\n        \"semantic_type\": \"\",\n        \"description\": \"\"\n      }\n    },\n    {\n      \"column\": \"S\",\n      \"properties\": {\n        \"dtype\": \"boolean\",\n        \"num_unique_values\": 2,\n        \"samples\": [\n          false,\n          true\n        ],\n        \"semantic_type\": \"\",\n        \"description\": \"\"\n      }\n    }\n  ]\n}"
            }
          },
          "metadata": {},
          "execution_count": 248
        }
      ]
    },
    {
      "cell_type": "code",
      "metadata": {
        "id": "LtNkfyDtEJAv"
      },
      "source": [
        "df.drop(['Sex'],axis=1,inplace=True)\n",
        "df.drop(['Deck'],axis=1,inplace=True)\n",
        "df.drop(['Embarked'],axis=1,inplace=True)"
      ],
      "execution_count": null,
      "outputs": []
    },
    {
      "cell_type": "code",
      "metadata": {
        "id": "FBtxZwpXEJAz"
      },
      "source": [
        "df = pd.concat([df,sex],axis=1)\n",
        "df = pd.concat([df,deck],axis=1)\n",
        "df = pd.concat([df,embraked],axis=1)"
      ],
      "execution_count": null,
      "outputs": []
    },
    {
      "cell_type": "code",
      "metadata": {
        "id": "U0mAD-mfEJA4",
        "outputId": "4dad7279-9d29-46c7-ea2e-37b34a9f72e1",
        "colab": {
          "base_uri": "https://localhost:8080/",
          "height": 206
        }
      },
      "source": [
        "df.head()"
      ],
      "execution_count": null,
      "outputs": [
        {
          "output_type": "execute_result",
          "data": {
            "text/plain": [
              "    Age  Survived  Pclass  SibSp  Parch     Fare   male      B      C      D  \\\n",
              "0  22.0         0       3      1      0   7.2500   True  False  False  False   \n",
              "1  38.0         1       1      1      0  71.2833  False  False   True  False   \n",
              "2  26.0         1       3      0      0   7.9250  False  False  False  False   \n",
              "3  35.0         1       1      1      0  53.1000  False  False   True  False   \n",
              "4  35.0         0       3      0      0   8.0500   True  False  False  False   \n",
              "\n",
              "       E      F      G      T  Unknown      Q      S  \n",
              "0  False  False  False  False     True  False   True  \n",
              "1  False  False  False  False    False  False  False  \n",
              "2  False  False  False  False     True  False   True  \n",
              "3  False  False  False  False    False  False   True  \n",
              "4  False  False  False  False     True  False   True  "
            ],
            "text/html": [
              "\n",
              "  <div id=\"df-a422c71b-098c-4547-a4b7-9cf7dd77a3dc\" class=\"colab-df-container\">\n",
              "    <div>\n",
              "<style scoped>\n",
              "    .dataframe tbody tr th:only-of-type {\n",
              "        vertical-align: middle;\n",
              "    }\n",
              "\n",
              "    .dataframe tbody tr th {\n",
              "        vertical-align: top;\n",
              "    }\n",
              "\n",
              "    .dataframe thead th {\n",
              "        text-align: right;\n",
              "    }\n",
              "</style>\n",
              "<table border=\"1\" class=\"dataframe\">\n",
              "  <thead>\n",
              "    <tr style=\"text-align: right;\">\n",
              "      <th></th>\n",
              "      <th>Age</th>\n",
              "      <th>Survived</th>\n",
              "      <th>Pclass</th>\n",
              "      <th>SibSp</th>\n",
              "      <th>Parch</th>\n",
              "      <th>Fare</th>\n",
              "      <th>male</th>\n",
              "      <th>B</th>\n",
              "      <th>C</th>\n",
              "      <th>D</th>\n",
              "      <th>E</th>\n",
              "      <th>F</th>\n",
              "      <th>G</th>\n",
              "      <th>T</th>\n",
              "      <th>Unknown</th>\n",
              "      <th>Q</th>\n",
              "      <th>S</th>\n",
              "    </tr>\n",
              "  </thead>\n",
              "  <tbody>\n",
              "    <tr>\n",
              "      <th>0</th>\n",
              "      <td>22.0</td>\n",
              "      <td>0</td>\n",
              "      <td>3</td>\n",
              "      <td>1</td>\n",
              "      <td>0</td>\n",
              "      <td>7.2500</td>\n",
              "      <td>True</td>\n",
              "      <td>False</td>\n",
              "      <td>False</td>\n",
              "      <td>False</td>\n",
              "      <td>False</td>\n",
              "      <td>False</td>\n",
              "      <td>False</td>\n",
              "      <td>False</td>\n",
              "      <td>True</td>\n",
              "      <td>False</td>\n",
              "      <td>True</td>\n",
              "    </tr>\n",
              "    <tr>\n",
              "      <th>1</th>\n",
              "      <td>38.0</td>\n",
              "      <td>1</td>\n",
              "      <td>1</td>\n",
              "      <td>1</td>\n",
              "      <td>0</td>\n",
              "      <td>71.2833</td>\n",
              "      <td>False</td>\n",
              "      <td>False</td>\n",
              "      <td>True</td>\n",
              "      <td>False</td>\n",
              "      <td>False</td>\n",
              "      <td>False</td>\n",
              "      <td>False</td>\n",
              "      <td>False</td>\n",
              "      <td>False</td>\n",
              "      <td>False</td>\n",
              "      <td>False</td>\n",
              "    </tr>\n",
              "    <tr>\n",
              "      <th>2</th>\n",
              "      <td>26.0</td>\n",
              "      <td>1</td>\n",
              "      <td>3</td>\n",
              "      <td>0</td>\n",
              "      <td>0</td>\n",
              "      <td>7.9250</td>\n",
              "      <td>False</td>\n",
              "      <td>False</td>\n",
              "      <td>False</td>\n",
              "      <td>False</td>\n",
              "      <td>False</td>\n",
              "      <td>False</td>\n",
              "      <td>False</td>\n",
              "      <td>False</td>\n",
              "      <td>True</td>\n",
              "      <td>False</td>\n",
              "      <td>True</td>\n",
              "    </tr>\n",
              "    <tr>\n",
              "      <th>3</th>\n",
              "      <td>35.0</td>\n",
              "      <td>1</td>\n",
              "      <td>1</td>\n",
              "      <td>1</td>\n",
              "      <td>0</td>\n",
              "      <td>53.1000</td>\n",
              "      <td>False</td>\n",
              "      <td>False</td>\n",
              "      <td>True</td>\n",
              "      <td>False</td>\n",
              "      <td>False</td>\n",
              "      <td>False</td>\n",
              "      <td>False</td>\n",
              "      <td>False</td>\n",
              "      <td>False</td>\n",
              "      <td>False</td>\n",
              "      <td>True</td>\n",
              "    </tr>\n",
              "    <tr>\n",
              "      <th>4</th>\n",
              "      <td>35.0</td>\n",
              "      <td>0</td>\n",
              "      <td>3</td>\n",
              "      <td>0</td>\n",
              "      <td>0</td>\n",
              "      <td>8.0500</td>\n",
              "      <td>True</td>\n",
              "      <td>False</td>\n",
              "      <td>False</td>\n",
              "      <td>False</td>\n",
              "      <td>False</td>\n",
              "      <td>False</td>\n",
              "      <td>False</td>\n",
              "      <td>False</td>\n",
              "      <td>True</td>\n",
              "      <td>False</td>\n",
              "      <td>True</td>\n",
              "    </tr>\n",
              "  </tbody>\n",
              "</table>\n",
              "</div>\n",
              "    <div class=\"colab-df-buttons\">\n",
              "\n",
              "  <div class=\"colab-df-container\">\n",
              "    <button class=\"colab-df-convert\" onclick=\"convertToInteractive('df-a422c71b-098c-4547-a4b7-9cf7dd77a3dc')\"\n",
              "            title=\"Convert this dataframe to an interactive table.\"\n",
              "            style=\"display:none;\">\n",
              "\n",
              "  <svg xmlns=\"http://www.w3.org/2000/svg\" height=\"24px\" viewBox=\"0 -960 960 960\">\n",
              "    <path d=\"M120-120v-720h720v720H120Zm60-500h600v-160H180v160Zm220 220h160v-160H400v160Zm0 220h160v-160H400v160ZM180-400h160v-160H180v160Zm440 0h160v-160H620v160ZM180-180h160v-160H180v160Zm440 0h160v-160H620v160Z\"/>\n",
              "  </svg>\n",
              "    </button>\n",
              "\n",
              "  <style>\n",
              "    .colab-df-container {\n",
              "      display:flex;\n",
              "      gap: 12px;\n",
              "    }\n",
              "\n",
              "    .colab-df-convert {\n",
              "      background-color: #E8F0FE;\n",
              "      border: none;\n",
              "      border-radius: 50%;\n",
              "      cursor: pointer;\n",
              "      display: none;\n",
              "      fill: #1967D2;\n",
              "      height: 32px;\n",
              "      padding: 0 0 0 0;\n",
              "      width: 32px;\n",
              "    }\n",
              "\n",
              "    .colab-df-convert:hover {\n",
              "      background-color: #E2EBFA;\n",
              "      box-shadow: 0px 1px 2px rgba(60, 64, 67, 0.3), 0px 1px 3px 1px rgba(60, 64, 67, 0.15);\n",
              "      fill: #174EA6;\n",
              "    }\n",
              "\n",
              "    .colab-df-buttons div {\n",
              "      margin-bottom: 4px;\n",
              "    }\n",
              "\n",
              "    [theme=dark] .colab-df-convert {\n",
              "      background-color: #3B4455;\n",
              "      fill: #D2E3FC;\n",
              "    }\n",
              "\n",
              "    [theme=dark] .colab-df-convert:hover {\n",
              "      background-color: #434B5C;\n",
              "      box-shadow: 0px 1px 3px 1px rgba(0, 0, 0, 0.15);\n",
              "      filter: drop-shadow(0px 1px 2px rgba(0, 0, 0, 0.3));\n",
              "      fill: #FFFFFF;\n",
              "    }\n",
              "  </style>\n",
              "\n",
              "    <script>\n",
              "      const buttonEl =\n",
              "        document.querySelector('#df-a422c71b-098c-4547-a4b7-9cf7dd77a3dc button.colab-df-convert');\n",
              "      buttonEl.style.display =\n",
              "        google.colab.kernel.accessAllowed ? 'block' : 'none';\n",
              "\n",
              "      async function convertToInteractive(key) {\n",
              "        const element = document.querySelector('#df-a422c71b-098c-4547-a4b7-9cf7dd77a3dc');\n",
              "        const dataTable =\n",
              "          await google.colab.kernel.invokeFunction('convertToInteractive',\n",
              "                                                    [key], {});\n",
              "        if (!dataTable) return;\n",
              "\n",
              "        const docLinkHtml = 'Like what you see? Visit the ' +\n",
              "          '<a target=\"_blank\" href=https://colab.research.google.com/notebooks/data_table.ipynb>data table notebook</a>'\n",
              "          + ' to learn more about interactive tables.';\n",
              "        element.innerHTML = '';\n",
              "        dataTable['output_type'] = 'display_data';\n",
              "        await google.colab.output.renderOutput(dataTable, element);\n",
              "        const docLink = document.createElement('div');\n",
              "        docLink.innerHTML = docLinkHtml;\n",
              "        element.appendChild(docLink);\n",
              "      }\n",
              "    </script>\n",
              "  </div>\n",
              "\n",
              "\n",
              "<div id=\"df-fd9b018a-ec3f-49fd-b915-c47a2d2367d7\">\n",
              "  <button class=\"colab-df-quickchart\" onclick=\"quickchart('df-fd9b018a-ec3f-49fd-b915-c47a2d2367d7')\"\n",
              "            title=\"Suggest charts\"\n",
              "            style=\"display:none;\">\n",
              "\n",
              "<svg xmlns=\"http://www.w3.org/2000/svg\" height=\"24px\"viewBox=\"0 0 24 24\"\n",
              "     width=\"24px\">\n",
              "    <g>\n",
              "        <path d=\"M19 3H5c-1.1 0-2 .9-2 2v14c0 1.1.9 2 2 2h14c1.1 0 2-.9 2-2V5c0-1.1-.9-2-2-2zM9 17H7v-7h2v7zm4 0h-2V7h2v10zm4 0h-2v-4h2v4z\"/>\n",
              "    </g>\n",
              "</svg>\n",
              "  </button>\n",
              "\n",
              "<style>\n",
              "  .colab-df-quickchart {\n",
              "      --bg-color: #E8F0FE;\n",
              "      --fill-color: #1967D2;\n",
              "      --hover-bg-color: #E2EBFA;\n",
              "      --hover-fill-color: #174EA6;\n",
              "      --disabled-fill-color: #AAA;\n",
              "      --disabled-bg-color: #DDD;\n",
              "  }\n",
              "\n",
              "  [theme=dark] .colab-df-quickchart {\n",
              "      --bg-color: #3B4455;\n",
              "      --fill-color: #D2E3FC;\n",
              "      --hover-bg-color: #434B5C;\n",
              "      --hover-fill-color: #FFFFFF;\n",
              "      --disabled-bg-color: #3B4455;\n",
              "      --disabled-fill-color: #666;\n",
              "  }\n",
              "\n",
              "  .colab-df-quickchart {\n",
              "    background-color: var(--bg-color);\n",
              "    border: none;\n",
              "    border-radius: 50%;\n",
              "    cursor: pointer;\n",
              "    display: none;\n",
              "    fill: var(--fill-color);\n",
              "    height: 32px;\n",
              "    padding: 0;\n",
              "    width: 32px;\n",
              "  }\n",
              "\n",
              "  .colab-df-quickchart:hover {\n",
              "    background-color: var(--hover-bg-color);\n",
              "    box-shadow: 0 1px 2px rgba(60, 64, 67, 0.3), 0 1px 3px 1px rgba(60, 64, 67, 0.15);\n",
              "    fill: var(--button-hover-fill-color);\n",
              "  }\n",
              "\n",
              "  .colab-df-quickchart-complete:disabled,\n",
              "  .colab-df-quickchart-complete:disabled:hover {\n",
              "    background-color: var(--disabled-bg-color);\n",
              "    fill: var(--disabled-fill-color);\n",
              "    box-shadow: none;\n",
              "  }\n",
              "\n",
              "  .colab-df-spinner {\n",
              "    border: 2px solid var(--fill-color);\n",
              "    border-color: transparent;\n",
              "    border-bottom-color: var(--fill-color);\n",
              "    animation:\n",
              "      spin 1s steps(1) infinite;\n",
              "  }\n",
              "\n",
              "  @keyframes spin {\n",
              "    0% {\n",
              "      border-color: transparent;\n",
              "      border-bottom-color: var(--fill-color);\n",
              "      border-left-color: var(--fill-color);\n",
              "    }\n",
              "    20% {\n",
              "      border-color: transparent;\n",
              "      border-left-color: var(--fill-color);\n",
              "      border-top-color: var(--fill-color);\n",
              "    }\n",
              "    30% {\n",
              "      border-color: transparent;\n",
              "      border-left-color: var(--fill-color);\n",
              "      border-top-color: var(--fill-color);\n",
              "      border-right-color: var(--fill-color);\n",
              "    }\n",
              "    40% {\n",
              "      border-color: transparent;\n",
              "      border-right-color: var(--fill-color);\n",
              "      border-top-color: var(--fill-color);\n",
              "    }\n",
              "    60% {\n",
              "      border-color: transparent;\n",
              "      border-right-color: var(--fill-color);\n",
              "    }\n",
              "    80% {\n",
              "      border-color: transparent;\n",
              "      border-right-color: var(--fill-color);\n",
              "      border-bottom-color: var(--fill-color);\n",
              "    }\n",
              "    90% {\n",
              "      border-color: transparent;\n",
              "      border-bottom-color: var(--fill-color);\n",
              "    }\n",
              "  }\n",
              "</style>\n",
              "\n",
              "  <script>\n",
              "    async function quickchart(key) {\n",
              "      const quickchartButtonEl =\n",
              "        document.querySelector('#' + key + ' button');\n",
              "      quickchartButtonEl.disabled = true;  // To prevent multiple clicks.\n",
              "      quickchartButtonEl.classList.add('colab-df-spinner');\n",
              "      try {\n",
              "        const charts = await google.colab.kernel.invokeFunction(\n",
              "            'suggestCharts', [key], {});\n",
              "      } catch (error) {\n",
              "        console.error('Error during call to suggestCharts:', error);\n",
              "      }\n",
              "      quickchartButtonEl.classList.remove('colab-df-spinner');\n",
              "      quickchartButtonEl.classList.add('colab-df-quickchart-complete');\n",
              "    }\n",
              "    (() => {\n",
              "      let quickchartButtonEl =\n",
              "        document.querySelector('#df-fd9b018a-ec3f-49fd-b915-c47a2d2367d7 button');\n",
              "      quickchartButtonEl.style.display =\n",
              "        google.colab.kernel.accessAllowed ? 'block' : 'none';\n",
              "    })();\n",
              "  </script>\n",
              "</div>\n",
              "\n",
              "    </div>\n",
              "  </div>\n"
            ],
            "application/vnd.google.colaboratory.intrinsic+json": {
              "type": "dataframe",
              "variable_name": "df",
              "summary": "{\n  \"name\": \"df\",\n  \"rows\": 891,\n  \"fields\": [\n    {\n      \"column\": \"Age\",\n      \"properties\": {\n        \"dtype\": \"number\",\n        \"std\": 13.210527334401535,\n        \"min\": 0.42,\n        \"max\": 80.0,\n        \"num_unique_values\": 91,\n        \"samples\": [\n          0.83,\n          38.233440860215055,\n          36.5\n        ],\n        \"semantic_type\": \"\",\n        \"description\": \"\"\n      }\n    },\n    {\n      \"column\": \"Survived\",\n      \"properties\": {\n        \"dtype\": \"number\",\n        \"std\": 0,\n        \"min\": 0,\n        \"max\": 1,\n        \"num_unique_values\": 2,\n        \"samples\": [\n          1,\n          0\n        ],\n        \"semantic_type\": \"\",\n        \"description\": \"\"\n      }\n    },\n    {\n      \"column\": \"Pclass\",\n      \"properties\": {\n        \"dtype\": \"number\",\n        \"std\": 0,\n        \"min\": 1,\n        \"max\": 3,\n        \"num_unique_values\": 3,\n        \"samples\": [\n          3,\n          1\n        ],\n        \"semantic_type\": \"\",\n        \"description\": \"\"\n      }\n    },\n    {\n      \"column\": \"SibSp\",\n      \"properties\": {\n        \"dtype\": \"number\",\n        \"std\": 1,\n        \"min\": 0,\n        \"max\": 8,\n        \"num_unique_values\": 7,\n        \"samples\": [\n          1,\n          0\n        ],\n        \"semantic_type\": \"\",\n        \"description\": \"\"\n      }\n    },\n    {\n      \"column\": \"Parch\",\n      \"properties\": {\n        \"dtype\": \"number\",\n        \"std\": 0,\n        \"min\": 0,\n        \"max\": 6,\n        \"num_unique_values\": 7,\n        \"samples\": [\n          0,\n          1\n        ],\n        \"semantic_type\": \"\",\n        \"description\": \"\"\n      }\n    },\n    {\n      \"column\": \"Fare\",\n      \"properties\": {\n        \"dtype\": \"number\",\n        \"std\": 49.6934285971809,\n        \"min\": 0.0,\n        \"max\": 512.3292,\n        \"num_unique_values\": 248,\n        \"samples\": [\n          11.2417,\n          51.8625\n        ],\n        \"semantic_type\": \"\",\n        \"description\": \"\"\n      }\n    },\n    {\n      \"column\": \"male\",\n      \"properties\": {\n        \"dtype\": \"boolean\",\n        \"num_unique_values\": 2,\n        \"samples\": [\n          false,\n          true\n        ],\n        \"semantic_type\": \"\",\n        \"description\": \"\"\n      }\n    },\n    {\n      \"column\": \"B\",\n      \"properties\": {\n        \"dtype\": \"boolean\",\n        \"num_unique_values\": 2,\n        \"samples\": [\n          true,\n          false\n        ],\n        \"semantic_type\": \"\",\n        \"description\": \"\"\n      }\n    },\n    {\n      \"column\": \"C\",\n      \"properties\": {\n        \"dtype\": \"boolean\",\n        \"num_unique_values\": 2,\n        \"samples\": [\n          true,\n          false\n        ],\n        \"semantic_type\": \"\",\n        \"description\": \"\"\n      }\n    },\n    {\n      \"column\": \"D\",\n      \"properties\": {\n        \"dtype\": \"boolean\",\n        \"num_unique_values\": 2,\n        \"samples\": [\n          true,\n          false\n        ],\n        \"semantic_type\": \"\",\n        \"description\": \"\"\n      }\n    },\n    {\n      \"column\": \"E\",\n      \"properties\": {\n        \"dtype\": \"boolean\",\n        \"num_unique_values\": 2,\n        \"samples\": [\n          true,\n          false\n        ],\n        \"semantic_type\": \"\",\n        \"description\": \"\"\n      }\n    },\n    {\n      \"column\": \"F\",\n      \"properties\": {\n        \"dtype\": \"boolean\",\n        \"num_unique_values\": 2,\n        \"samples\": [\n          true,\n          false\n        ],\n        \"semantic_type\": \"\",\n        \"description\": \"\"\n      }\n    },\n    {\n      \"column\": \"G\",\n      \"properties\": {\n        \"dtype\": \"boolean\",\n        \"num_unique_values\": 2,\n        \"samples\": [\n          true,\n          false\n        ],\n        \"semantic_type\": \"\",\n        \"description\": \"\"\n      }\n    },\n    {\n      \"column\": \"T\",\n      \"properties\": {\n        \"dtype\": \"boolean\",\n        \"num_unique_values\": 2,\n        \"samples\": [\n          true,\n          false\n        ],\n        \"semantic_type\": \"\",\n        \"description\": \"\"\n      }\n    },\n    {\n      \"column\": \"Unknown\",\n      \"properties\": {\n        \"dtype\": \"boolean\",\n        \"num_unique_values\": 2,\n        \"samples\": [\n          false,\n          true\n        ],\n        \"semantic_type\": \"\",\n        \"description\": \"\"\n      }\n    },\n    {\n      \"column\": \"Q\",\n      \"properties\": {\n        \"dtype\": \"boolean\",\n        \"num_unique_values\": 2,\n        \"samples\": [\n          true,\n          false\n        ],\n        \"semantic_type\": \"\",\n        \"description\": \"\"\n      }\n    },\n    {\n      \"column\": \"S\",\n      \"properties\": {\n        \"dtype\": \"boolean\",\n        \"num_unique_values\": 2,\n        \"samples\": [\n          false,\n          true\n        ],\n        \"semantic_type\": \"\",\n        \"description\": \"\"\n      }\n    }\n  ]\n}"
            }
          },
          "metadata": {},
          "execution_count": 251
        }
      ]
    },
    {
      "source": [
        "from google.colab import sheets\n",
        "sheet = sheets.InteractiveSheet(df=df)"
      ],
      "cell_type": "code",
      "execution_count": null,
      "outputs": [
        {
          "output_type": "stream",
          "name": "stdout",
          "text": [
            "https://docs.google.com/spreadsheets/d/1Z3P2bHD-7WORsHnCwWLhE8b2uTzrVsq-cUu17ODfMuA#gid=0\n"
          ]
        },
        {
          "output_type": "stream",
          "name": "stderr",
          "text": [
            "/usr/local/lib/python3.10/dist-packages/google/colab/sheets.py:31: FutureWarning: DataFrame.applymap has been deprecated. Use DataFrame.map instead.\n",
            "  return frame.applymap(_clean_val).replace({np.nan: None})\n"
          ]
        },
        {
          "output_type": "display_data",
          "data": {
            "text/plain": [
              "<IPython.lib.display.IFrame at 0x79b3dd63efb0>"
            ],
            "text/html": [
              "\n",
              "        <iframe\n",
              "            width=\"100%\"\n",
              "            height=\"600\"\n",
              "            src=\"https://docs.google.com/spreadsheets/d/1Z3P2bHD-7WORsHnCwWLhE8b2uTzrVsq-cUu17ODfMuA#gid=0/edit?rm=embedded?usp=sharing?widget=true&amp;headers=false\"\n",
              "            frameborder=\"0\"\n",
              "            allowfullscreen\n",
              "            \n",
              "        ></iframe>\n",
              "        "
            ]
          },
          "metadata": {}
        }
      ],
      "metadata": {
        "cellView": "form",
        "colab": {
          "base_uri": "https://localhost:8080/",
          "height": 677
        },
        "id": "tM6VtCNtvuHc",
        "outputId": "8dcc5868-a25a-48a2-f49f-8182ad7fdb6e"
      }
    },
    {
      "cell_type": "code",
      "metadata": {
        "id": "XpUSHZtQwxSn",
        "outputId": "d969908b-c5d6-454f-85df-8de190732ccc",
        "colab": {
          "base_uri": "https://localhost:8080/"
        }
      },
      "source": [
        "df.info()"
      ],
      "execution_count": null,
      "outputs": [
        {
          "output_type": "stream",
          "name": "stdout",
          "text": [
            "<class 'pandas.core.frame.DataFrame'>\n",
            "RangeIndex: 891 entries, 0 to 890\n",
            "Data columns (total 17 columns):\n",
            " #   Column    Non-Null Count  Dtype  \n",
            "---  ------    --------------  -----  \n",
            " 0   Age       891 non-null    float64\n",
            " 1   Survived  891 non-null    int64  \n",
            " 2   Pclass    891 non-null    int64  \n",
            " 3   SibSp     891 non-null    int64  \n",
            " 4   Parch     891 non-null    int64  \n",
            " 5   Fare      891 non-null    float64\n",
            " 6   male      891 non-null    bool   \n",
            " 7   B         891 non-null    bool   \n",
            " 8   C         891 non-null    bool   \n",
            " 9   D         891 non-null    bool   \n",
            " 10  E         891 non-null    bool   \n",
            " 11  F         891 non-null    bool   \n",
            " 12  G         891 non-null    bool   \n",
            " 13  T         891 non-null    bool   \n",
            " 14  Unknown   891 non-null    bool   \n",
            " 15  Q         891 non-null    bool   \n",
            " 16  S         891 non-null    bool   \n",
            "dtypes: bool(11), float64(2), int64(4)\n",
            "memory usage: 51.5 KB\n"
          ]
        }
      ]
    },
    {
      "cell_type": "markdown",
      "metadata": {
        "id": "VaOb-EMmEJBF"
      },
      "source": [
        "Great! Our data is ready for our model!\n",
        "\n",
        "# Building a Logistic Regression model\n",
        "\n",
        "Let's start by splitting our data into a training set and test set (there is another test.csv file that you can play around with in case you want to use all this data for training).\n",
        "\n"
      ]
    },
    {
      "cell_type": "markdown",
      "metadata": {
        "id": "2YQTw5Knx9_q"
      },
      "source": [
        "## Train/Test Split"
      ]
    },
    {
      "cell_type": "code",
      "metadata": {
        "id": "UJa4IxvDEJBG"
      },
      "source": [
        "from sklearn.model_selection import train_test_split"
      ],
      "execution_count": null,
      "outputs": []
    },
    {
      "cell_type": "code",
      "metadata": {
        "id": "K2J_L4G7EJBM"
      },
      "source": [
        "X = df.drop('Survived',axis=1)\n",
        "y = df['Survived']\n",
        "X_train, X_test, y_train, y_test = train_test_split(X, y, stratify=y, test_size=0.30, random_state=101)"
      ],
      "execution_count": null,
      "outputs": []
    },
    {
      "cell_type": "markdown",
      "metadata": {
        "id": "NXAWOsTsEJBP"
      },
      "source": [
        "## Training and Predicting"
      ]
    },
    {
      "cell_type": "code",
      "metadata": {
        "id": "UN4qSMiKEJBR"
      },
      "source": [
        "from sklearn.linear_model import LogisticRegression"
      ],
      "execution_count": null,
      "outputs": []
    },
    {
      "cell_type": "code",
      "metadata": {
        "id": "CfRgs1P6EJBV",
        "outputId": "888e6279-3bcc-410d-ba64-de36e8d4dd4f",
        "colab": {
          "base_uri": "https://localhost:8080/",
          "height": 223
        }
      },
      "source": [
        "model = LogisticRegression()\n",
        "model.fit(X_train,y_train)"
      ],
      "execution_count": null,
      "outputs": [
        {
          "output_type": "stream",
          "name": "stderr",
          "text": [
            "/usr/local/lib/python3.10/dist-packages/sklearn/linear_model/_logistic.py:460: ConvergenceWarning: lbfgs failed to converge (status=1):\n",
            "STOP: TOTAL NO. of ITERATIONS REACHED LIMIT.\n",
            "\n",
            "Increase the number of iterations (max_iter) or scale the data as shown in:\n",
            "    https://scikit-learn.org/stable/modules/preprocessing.html\n",
            "Please also refer to the documentation for alternative solver options:\n",
            "    https://scikit-learn.org/stable/modules/linear_model.html#logistic-regression\n",
            "  n_iter_i = _check_optimize_result(\n"
          ]
        },
        {
          "output_type": "execute_result",
          "data": {
            "text/plain": [
              "LogisticRegression()"
            ],
            "text/html": [
              "<style>#sk-container-id-6 {color: black;}#sk-container-id-6 pre{padding: 0;}#sk-container-id-6 div.sk-toggleable {background-color: white;}#sk-container-id-6 label.sk-toggleable__label {cursor: pointer;display: block;width: 100%;margin-bottom: 0;padding: 0.3em;box-sizing: border-box;text-align: center;}#sk-container-id-6 label.sk-toggleable__label-arrow:before {content: \"▸\";float: left;margin-right: 0.25em;color: #696969;}#sk-container-id-6 label.sk-toggleable__label-arrow:hover:before {color: black;}#sk-container-id-6 div.sk-estimator:hover label.sk-toggleable__label-arrow:before {color: black;}#sk-container-id-6 div.sk-toggleable__content {max-height: 0;max-width: 0;overflow: hidden;text-align: left;background-color: #f0f8ff;}#sk-container-id-6 div.sk-toggleable__content pre {margin: 0.2em;color: black;border-radius: 0.25em;background-color: #f0f8ff;}#sk-container-id-6 input.sk-toggleable__control:checked~div.sk-toggleable__content {max-height: 200px;max-width: 100%;overflow: auto;}#sk-container-id-6 input.sk-toggleable__control:checked~label.sk-toggleable__label-arrow:before {content: \"▾\";}#sk-container-id-6 div.sk-estimator input.sk-toggleable__control:checked~label.sk-toggleable__label {background-color: #d4ebff;}#sk-container-id-6 div.sk-label input.sk-toggleable__control:checked~label.sk-toggleable__label {background-color: #d4ebff;}#sk-container-id-6 input.sk-hidden--visually {border: 0;clip: rect(1px 1px 1px 1px);clip: rect(1px, 1px, 1px, 1px);height: 1px;margin: -1px;overflow: hidden;padding: 0;position: absolute;width: 1px;}#sk-container-id-6 div.sk-estimator {font-family: monospace;background-color: #f0f8ff;border: 1px dotted black;border-radius: 0.25em;box-sizing: border-box;margin-bottom: 0.5em;}#sk-container-id-6 div.sk-estimator:hover {background-color: #d4ebff;}#sk-container-id-6 div.sk-parallel-item::after {content: \"\";width: 100%;border-bottom: 1px solid gray;flex-grow: 1;}#sk-container-id-6 div.sk-label:hover label.sk-toggleable__label {background-color: #d4ebff;}#sk-container-id-6 div.sk-serial::before {content: \"\";position: absolute;border-left: 1px solid gray;box-sizing: border-box;top: 0;bottom: 0;left: 50%;z-index: 0;}#sk-container-id-6 div.sk-serial {display: flex;flex-direction: column;align-items: center;background-color: white;padding-right: 0.2em;padding-left: 0.2em;position: relative;}#sk-container-id-6 div.sk-item {position: relative;z-index: 1;}#sk-container-id-6 div.sk-parallel {display: flex;align-items: stretch;justify-content: center;background-color: white;position: relative;}#sk-container-id-6 div.sk-item::before, #sk-container-id-6 div.sk-parallel-item::before {content: \"\";position: absolute;border-left: 1px solid gray;box-sizing: border-box;top: 0;bottom: 0;left: 50%;z-index: -1;}#sk-container-id-6 div.sk-parallel-item {display: flex;flex-direction: column;z-index: 1;position: relative;background-color: white;}#sk-container-id-6 div.sk-parallel-item:first-child::after {align-self: flex-end;width: 50%;}#sk-container-id-6 div.sk-parallel-item:last-child::after {align-self: flex-start;width: 50%;}#sk-container-id-6 div.sk-parallel-item:only-child::after {width: 0;}#sk-container-id-6 div.sk-dashed-wrapped {border: 1px dashed gray;margin: 0 0.4em 0.5em 0.4em;box-sizing: border-box;padding-bottom: 0.4em;background-color: white;}#sk-container-id-6 div.sk-label label {font-family: monospace;font-weight: bold;display: inline-block;line-height: 1.2em;}#sk-container-id-6 div.sk-label-container {text-align: center;}#sk-container-id-6 div.sk-container {/* jupyter's `normalize.less` sets `[hidden] { display: none; }` but bootstrap.min.css set `[hidden] { display: none !important; }` so we also need the `!important` here to be able to override the default hidden behavior on the sphinx rendered scikit-learn.org. See: https://github.com/scikit-learn/scikit-learn/issues/21755 */display: inline-block !important;position: relative;}#sk-container-id-6 div.sk-text-repr-fallback {display: none;}</style><div id=\"sk-container-id-6\" class=\"sk-top-container\"><div class=\"sk-text-repr-fallback\"><pre>LogisticRegression()</pre><b>In a Jupyter environment, please rerun this cell to show the HTML representation or trust the notebook. <br />On GitHub, the HTML representation is unable to render, please try loading this page with nbviewer.org.</b></div><div class=\"sk-container\" hidden><div class=\"sk-item\"><div class=\"sk-estimator sk-toggleable\"><input class=\"sk-toggleable__control sk-hidden--visually\" id=\"sk-estimator-id-6\" type=\"checkbox\" checked><label for=\"sk-estimator-id-6\" class=\"sk-toggleable__label sk-toggleable__label-arrow\">LogisticRegression</label><div class=\"sk-toggleable__content\"><pre>LogisticRegression()</pre></div></div></div></div></div>"
            ]
          },
          "metadata": {},
          "execution_count": 257
        }
      ]
    },
    {
      "cell_type": "code",
      "metadata": {
        "id": "PsW_i8ciEJBZ"
      },
      "source": [
        "y_pred = model.predict(X_test)"
      ],
      "execution_count": null,
      "outputs": []
    },
    {
      "cell_type": "code",
      "metadata": {
        "id": "mOSLQQd37RVn",
        "outputId": "b2b1b944-17db-4152-cfb6-ab1f6f0f7109",
        "colab": {
          "base_uri": "https://localhost:8080/"
        }
      },
      "source": [
        "print(list(y_test[:5]))\n",
        "print(y_pred[:5])"
      ],
      "execution_count": null,
      "outputs": [
        {
          "output_type": "stream",
          "name": "stdout",
          "text": [
            "[0, 0, 0, 1, 0]\n",
            "[0 0 0 0 1]\n"
          ]
        }
      ]
    },
    {
      "cell_type": "markdown",
      "metadata": {
        "id": "p-fAkpjMEJBc"
      },
      "source": [
        "Let's move on to evaluate our model!"
      ]
    },
    {
      "cell_type": "markdown",
      "metadata": {
        "id": "veajglVyEJBd"
      },
      "source": [
        "## Evaluation"
      ]
    },
    {
      "cell_type": "markdown",
      "metadata": {
        "id": "VQQuaeByEJBd"
      },
      "source": [
        "We can check precision,recall,f1-score using classification report!"
      ]
    },
    {
      "cell_type": "code",
      "metadata": {
        "id": "GaccDwyHEJBe"
      },
      "source": [
        "from sklearn.metrics import confusion_matrix\n",
        "from sklearn.metrics import classification_report"
      ],
      "execution_count": null,
      "outputs": []
    },
    {
      "cell_type": "code",
      "metadata": {
        "id": "4rnLAI6jxL0s",
        "outputId": "846c105c-e3b7-4bb9-8935-5466c1fd9e06",
        "colab": {
          "base_uri": "https://localhost:8080/"
        }
      },
      "source": [
        "confusion_matrix(y_test, y_pred, labels=[0,1])"
      ],
      "execution_count": null,
      "outputs": [
        {
          "output_type": "execute_result",
          "data": {
            "text/plain": [
              "array([[146,  19],\n",
              "       [ 39,  64]])"
            ]
          },
          "metadata": {},
          "execution_count": 261
        }
      ]
    },
    {
      "cell_type": "code",
      "metadata": {
        "id": "RM7I1ca1EJBg",
        "outputId": "b1ab055c-f58c-4147-b08b-1ac3c5f21a52",
        "colab": {
          "base_uri": "https://localhost:8080/"
        }
      },
      "source": [
        "print(classification_report(y_test,y_pred, digits=4))"
      ],
      "execution_count": null,
      "outputs": [
        {
          "output_type": "stream",
          "name": "stdout",
          "text": [
            "              precision    recall  f1-score   support\n",
            "\n",
            "           0     0.7892    0.8848    0.8343       165\n",
            "           1     0.7711    0.6214    0.6882       103\n",
            "\n",
            "    accuracy                         0.7836       268\n",
            "   macro avg     0.7801    0.7531    0.7612       268\n",
            "weighted avg     0.7822    0.7836    0.7781       268\n",
            "\n"
          ]
        }
      ]
    },
    {
      "cell_type": "markdown",
      "metadata": {
        "id": "6SsddnYj7Kqj"
      },
      "source": [
        "## Check model parameters"
      ]
    },
    {
      "cell_type": "code",
      "metadata": {
        "id": "1Ksy0ZG7ynQ2",
        "outputId": "758596d2-acfa-43fe-bcf1-fa357809f70b",
        "colab": {
          "base_uri": "https://localhost:8080/"
        }
      },
      "source": [
        "print(X.columns)\n",
        "print(model.intercept_)\n",
        "print(model.coef_)"
      ],
      "execution_count": null,
      "outputs": [
        {
          "output_type": "stream",
          "name": "stdout",
          "text": [
            "Index(['Age', 'Pclass', 'SibSp', 'Parch', 'Fare', 'male', 'B', 'C', 'D', 'E',\n",
            "       'F', 'G', 'T', 'Unknown', 'Q', 'S'],\n",
            "      dtype='object')\n",
            "[4.13659958]\n",
            "[[-0.03965993 -0.77537998 -0.30356462 -0.17698841  0.00394392 -2.76230773\n",
            "   0.64664533  0.47873585  1.14749806  1.29148439  0.3173312  -0.28250599\n",
            "  -0.11469779 -0.22142028  0.46818468 -0.07484057]]\n"
          ]
        }
      ]
    },
    {
      "cell_type": "markdown",
      "source": [],
      "metadata": {
        "id": "uWMq1-lptYLD"
      }
    },
    {
      "cell_type": "code",
      "metadata": {
        "id": "LdmC3EDOy0xl"
      },
      "source": [],
      "execution_count": null,
      "outputs": []
    },
    {
      "cell_type": "markdown",
      "source": [
        "#REPORT"
      ],
      "metadata": {
        "id": "t7QZMZp6tbZi"
      }
    },
    {
      "cell_type": "markdown",
      "source": [
        "  2.1 Use all variables\n",
        "\n",
        "  อันนี้คือผลลัพธ์จากการใช้ทุกตัวแปร โดยผมได้มีการปรับ cabin เป็น Deck เพื่อนำแค่first letter ของcabin มาทำโมเดล เพราะ ตัวเลขหลังตัวอักษรในcabinไม่ได้มีความสำคัญ แต่ตัวอักษรแรกตรงcabinเป็นการแบ่ง ประเภทของcabin\n",
        "  \n",
        "  ![image (1).png](data:image/png;base64,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)\n",
        "  \n"
      ],
      "metadata": {
        "id": "EwQeHfBMsU0B"
      }
    },
    {
      "cell_type": "markdown",
      "source": [],
      "metadata": {
        "id": "hd4-uX_XtZdD"
      }
    },
    {
      "cell_type": "code",
      "source": [],
      "metadata": {
        "id": "S6Kra6Fm2yaI"
      },
      "execution_count": null,
      "outputs": []
    },
    {
      "cell_type": "markdown",
      "source": [
        "##2.2Impute missing values\n",
        "\n",
        "  2.2.1 Impute categorical with mode\n",
        "\n",
        "  ทำแล้วตามในcodeเลย\n",
        "  \n",
        "  แต่ตัวแปรdeck ขอจัดการกับmissing value ด้วย การ fill NA ด้วย \"Unknows\" เพราะ จากข้อมูล แต่ละประเภท deck จำนวนที่ซำ้ไม่ได้ต่างกันมาก ที่ไม่เลือกลบคอลัมนี้ออกเพราะลองลบแล้ว model macro avg F1 score= 0.7303 น้อยกว่าใส่ไป\n",
        "  ![image.png](data:image/png;base64,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)\n",
        "![image.png](data:image/png;base64,iVBORw0KGgoAAAANSUhEUgAAAmkAAABWCAYAAACUwgGDAAAAAXNSR0IArs4c6QAAAARnQU1BAACxjwv8YQUAAAAJcEhZcwAADsMAAA7DAcdvqGQAACVESURBVHhe7Z0PUJTXuf+/iTbeuhECqFAtQkCr5Ua5xqHSjBgFK8YxUUGbSezcqVZKrNrpNZZM86cMsemd0MSbRr1q4Gp7W82kKmpiU/HqajU3o2EMMVquNoJ/qP5ABAK6SU1j8jvPec/7Z5fdl91ld13w+cy8w77n8L777jnnfc/3fZ5zznNHdnb2l+gDVFdXq0/B88EHH6hPDMMwDMMwt5Y71V+GYRiGYRgmimBLGsMwDMMwTBTCljSGYRiGYZgopM9Y0hiGYRiGYfoSbEljGIZhGIaJQlikMQzDMAzDRCEs0hiGYRiGYaIQFmkMwzAMwzBRCIs0hmEYhmGYKIRFGsMwDMMwTBTCIo1hGIZhGCYKYZHGMAzDMAwThbBIYxiGYRiGiUJYpDEMwzAMw0QhQYeFunz5svrEMAzDMAzDhBq2pDEMwzAMw0QhLNIYhmEYhmGiEBZpDMMwDMMwUQiLNIZhGIZhmCiERRrDMAzDMEwUwiKNYRiGYRgmCmGRxjAMwzAME4WwSGMYhmEYholCWKQxDMMwDMNEIbYirXPUAPx1UbzaYxiGYRiGYSKFT5HWOXIAziyOR+L/ulQKwzAMwzAMEym8irSO0UKgFcXjG5vaEHvmhkplGIZhGIZhIsWdf8sfhC/636F2gY+/KQTawji/Bdr999+P7du3409/+hPefPNNzJkzR+WEh7Vr18rvoq20tFSl+stirHl7G8py1a5i8dq38fbbalu7WKXewIHqi7ggt6t4PU8l64zNwa4nZ+G5JLUfZhbOexy7iu7DZLWvU75ev8aLOFl2U6VGBiq3baVT1J6G97K8idf/YF7ngWKVLJmKX35nL/YXaNuGYSpZJ+k+bHnycaweq/bDjK9y7gkhPadsd+J8tM1LVolhxlcdDFtn1Nv+76yC221V3GnU94U/uFCkkiNObhm26e3x9TK4t1Y/od/S5TdMQdnrPTgnEwIiWAd5Lpy8le2YuW2583rqXThdFI8vhVAjC9pH34/HmMr2gCxo//jHP7Bx40Y88sgj2LVrl0p1F3BFRWbzTklJwW9/+1tDbFnFnWceiTIry5Ytw0MPPYT6+nqV0kOK1qAgoQblM2diJm3LKlUGMRDvlo9ASv5gPHZAJem0tMOXI3hy7izZiYZSWNS3dapP7pQsoesbgTcaVMKtxLYsgbNV2rXmbVQJFs4enYFpVTPwxGWVoNPUgWb10ZNIlnNP8HZOKdx0sUWbvyLu5BHMeXkrVteG/jp94qsOLi+VdTbtqJd7cWOMrOuUqntUwi3CWYr51BZ3Bvm8oM654DO8u9GBCpUUeTQxsoYVQphJx6L/Lsf6XeV48Zl0laY44MCr//cpnl3PniUmstw5+r/acOcXQN2ywZoFrbINMWd73hBJdD399NOorq6Gy+UuZ77//e+joaFBii3a3nrrLUybNk3m/fSnP8W1a9eMPCJwi5n/TBmWBLQ24pDa7zkxeDC9A7v3NSJtdIQsHVFC6MvSjt5fzq7aPVJwzXl5D45jHFZEyjLG+MlNvF7ciitVXl7SRCsvfUyIv8dKI9Tema6Esg7yULKrGIMPbUSNj/efitI4vJvQ7OEJYJjwckd2dvaX5O4888N4DN933W+BdvmyZvIgaxkJqzfeeMPNiqZD+bpYq6jQ3kXJqvbwww9j06ZNqK2txfPPPy9F229+8xs8++yz+OMf/2ici/43MzNTWtCskIWtpaUFZWVlKsUX5OIsEO9IOi7UvDQfB3O2oWSiQ6XpaHmlTvpM7s5ruFLu7QFtA7mGJnVgwXZg9ZOpOPnyEWxWWdJVNd29I6aOeoGzU1qFVoyPUamN2G09zg/I7fnQleEYW9pPpYQHcmcWpKkdgetYOdZhaTdlSe7OSxh6wJsVjdydTyH+L16saHYEWc7yuAXjoF9tw76tWHFS7UQQsqRNa1PXJJD1n34eqytO4TAlePwGz+uU/x9/AnO2N6oUlWa0IctvJjx+Ny4cMY+1y/MHcnv+cxt++T/PQVa3FXIV5vXDL77rnyXKs33V75yJ5eLAKaXbRCurRt2YAmTFUo7ZvuzyDIrW4O3cNpTrHTq5QVdmoM7yf3SekjF15v/4unY611z1RGmoMi3GdM4i8cLbmoWsNHENO+uQMTcLjo4acc5GFL6diRM7gYIux9IzKh9txrWY+90+p+TvEN+hZRjl1R2+ylli/X0Kus/nlx3Sysi4nnpUzVwOd3t5gHhcP2RZUfmr57alfOU1k6We8n3VgYQsjyWqLRCBXCdZ04ox+sxGPPWCF+trgO2ZYXqKnDhw5+df4pv/2RoSC5o/kFgjgbZo0SJs2LAB77zzjhRbFy5cwI0bN6QoI8j1OWnSJAwaNEh+DhztRod4AEn328wqcbtqHCqbL9PKj7m0m1zmezzYg2ByRiqaz1AH14iTF5IxVnfFUUc4PRbHt5DlRLmrRGcoO1HRIcsOV1pVxLYPmB02q4oax6GP09E3Y/yYb+RDEnpZzUSVcrGGqyztCKqckYzVC+KwXy9nIewwPQcLtSNvIWQVjIGr/qJFoJm/gTZ/hORhp26Z035b8/hM47ctnDQOzULoGfkWEWaXF2kql+n3qtheqkGS6MT18UaOiQWId2p55ceArAKzzdrlecVZiuoGBzJy9LNPwdQxDtSLdN0qUzTsM3T+3z917Ywrlqvv8TLgITYLGS3l4t5wIGtuPKrFb3DFxmOkzExHAQlF+fvEsygtv8v4WE+0e6scNR2akNLKxiLmVorvkGnaOTF3jUjtHp/lTKJpbpIQgVqefk+TQCPxVjKk2jyOBKcfzw1bdHe02qqEwC2Ubt1KLJdlVKC5ecV3GwKNsu3qoKgQWa3mc2qmLtDot3k+98QWkBt54wCcjf0UuZ5jlBkmTNySxWzJOkYCjYQajWUjq5ru0qS0saLHpfFoa9aswaVLl6T7kwRcwBRlIl28me2I2CtPMuaMB9pbtL3NQkTYuuLiYuU4pIX0PymWAeFkQVF5oUe5CIwHmNrc3kS9sRiZZB2o8u99NLwEV84Ym4o0cexsYyxYjtiPxdcjNPnDE8d4bUwdTUAZU29avag9uGoPY1WT3PUfEnc+fhuNi0ubLtK9iH+7vEhDlhqjAyULiyFwBEIs6NaeQ0fq4EpINgScbZ4PKqtqgDFTlTiZigy4PytGDf0EVy4HapmuRzUJGoHr2A4P6424fyp0EViJE0LIxbsbrAKDnm8k/AzBQR6DJCR3I/wI23L2RJXl4kxxsUI0GceRJcuPcraHXqTV+cRG1r2kYfoZhVAjATmXvguo0gVad9S3wSWv00OweghCffPH8mjSH1eEYGaYSHFLRBpZyo4fPy5dmrTRmLS0tDRpLXv//fcxb948OR6NJiKQZY3cmr0CKQJiMGGB6ihJbKWkataMpos43WnmrRjfgd26a0tA7izDkkGbJS+0BG9Jixp6UM7SlWct55f3BC6GQoQ5Jm2r6ZYMmmSsFuVgtqMjsM4lMaxsZ1K1MrNMVLDLiyi5ZVg6EYYVhyw8XuwkocN5EHXQLDdTcjKA0wf9EwHRhGG51jc/LNh25Uxl0uFA1krtuVAysclNHJnWPLX5K5x8sHitcmmq8+nWeTc6XOL6/BOfEkOMnUCmfL6pGf2hsKQxTIS5JSKNGDJkiPoEDBs2TH1yhyxuZFUjERcU9EYVm4Gp8uYmcWIdmxZ6NAuI1eW0Fbt1V9zYTExotwoEcwyVZsmIlNstWEvaWbSJh7fuHqI3ceuYlkgSbDnLGbkpOUHOBs3Dv+90wul8DUtUSrggy6DD4qr0i6RYJKLTsC5Ozs0UQtYLcnaoEHAxcV3vBbu8EKNbctw6yPR4ONCERiUyFhdYxip5QHm+RJVdnjviXnDWIz1zDQqFGNEtYDofXRmIocPCtKyNEAz5afU4YVhxTKuaFC7aR8UhNLZaLUwKZTEKWGTYlbMvV6HgbIsL6bbu1EDvkSlIThAvKy1ntV1ZJtpHDXLnZqCuYj7m72xCVlGgS22Qy5SEnyrbkFjSPsfQ2LvQGMg4ZYbpAWETafryGy+88AIcDgcKCgqMpTZ+9atfyXFm+jIbJMR+/etfS5cmCTM9ncajPfnkk9K6FhTiplxH41PkW2EJ4p3a2I7wIERCSidO17lbRKQAy74Pk0+ewPE4qzuKNk2YkSWDRIbphnscW3LNAeDRgejQKmqAiSWyc6WxKV7Hg4Sd4MsZTaewgGaDkmtPz/PbanQAF6/S3ySM+I5MCB9CLK2ujXVrD7qw1JcdkRMEdBc5uSnFb9t/wWJBjD+P40YRxeC5IvNcVB7Yp4tXu7wIU7FD3J+m+y6/pcYYQyqxuNpobKQcJ6XjK48GmFM6ueZis1BCn63ralWcQH1aOtIbTni4JkXW5bsQ882/d1kbSxeYcgC9/r1+WaJNC9XbctKCLoAqsUPcS+nk1hN5+S1VXZ5T0jWr7j3DMkSiY6cQmeo4ufmzZphdOVNegsWlKTdNmNH4uKoGq3vVc53EQO8RTSQ79N+1Mh51xjNFG0+cdGydZhmsWC7Hq5Woa7GrAzdXrtioPXQvxPTlN4qRJW6tmKxiuRRHySKVrVN8AyM7+uEjtcsw4UbO7qQPJKp+9rOfYfDgwbJhk5Cyw9/ZneHC/9mdwRLk7E5f0Hih7HZz9p7sHN3HIvWESM3uDI4wzO70RTjL+UevwTkP2Jb7Q6xXSYwghLM7fUEdrxy07sXia5fXPebkoq4duV27DRT6HusMziiFRK11Fqz0QJQg47Q2u7Nb+vQ9Esr2wDD+YVjS8vLy8N5770nLFY0NI/HFhI7JQ4z54IpYxIk3tuaWngs0xiQ85bwErzmdLND6IFNK820mF/XDYxsTMLTAS8SRPopc69CNkYgXt1TT5e4EWt+/R4rK2vFAayILNCaiGCLtnnvuwdWrV6Vr8csvv5QWNX/5yle+guLi4oiGhUpPD/eoGeITPFBCoW16/pA+7DysLVhqcSsl1u7p8RpdelioR2/R+LBAGFngLSyUxshsH2GhAiQ85bweP8zNRS4LNHf0sFDZXu5FsqBRSKiCj1VClKHcoJ4D47twwIGxVXfhgXm9aKV5HwPktc1+iY5DZetQA+UWlhu5HMv9cBf28Xskz4Uff/Or+MWSASqBYSKD4e6ksWNnz57F5s2b5dIXNFh/37598p+8obs7GYZhGIZhmNBzy2Z3MgzDMAzDML4xRNqf//xnuT7ZwYMH8dlnn9la0RiGYRiGYZjwYrg7A4XdnQzDMAzDMOGD3Z0MwzAMwzBRyG0m0mitIrUQpAUKHG7MfjIWpaR10rTZiF5nd8o4ibPwXAjiPsoFSkMcNzFU51w4z3NhXbX4qee581w4aZRXJ8pVsr94rwOBmoXnvqq6NbSVZ33a5YUA+Tt9/z65kKbnwqZus+3Ma8ods0ObHUnbRM8lU32Uc1AkY3WI2qpJiM5JAfH1xYYV1Oa8LTL8xERVVmLbNWaqSo0M1D7dF27tHrpet+sctAq7vrMK3pskrRdo/j6/ZznrM2xp83nuIPB63wWJtf37s9huX4JmOa/vRTODmagjKJFGkQAo/mafQDyMChJqUK6HCXFbEHMg3i0fgZR8LwvaUogh9dHEc/V2751N76YTf2tXH63QUgX5oqzKE8R/BIhtHXhDD21V5b4ivcQur6cI4V7SiitVMShRKd0jRGNRFpqMmIcei5le2oFpVTMw7ZjnGgc+ytktiLq2BRfmKnqh6BHe2HBMlJMoq+2XVEIUQwJ8XkwNXj19UKUIrj2HVxsz8HQXQW5y9qj2G90Xds5DyS5aDV/b3FbBv7xUaz9HQ9/aQ4Yejmnnrb3GATN2IPvne7ts980Io+DfGIM30IyTZWEKL8b0efwWaRkZGXjllVfw0ksvYdGiRUhNTVU5vRu5eGNro+91koLALVh62AKl9x1s66BiuRQ3gcXXCw/l65sx9OjwABezpMVAXWgLZf/U+SFW6+1LbD1da48JMYNW4ccZTdjuJQKD8/RavBdTGMB6gBSuKB94swRL5tBWDTzyHBaF2xwVRfddqLixtxBHn58hth1CNrlwrpI+z8CpvRYhHQZKliTiSnb7bbMgMhNa7lizZs2Xd999N373u9/h0UcfxcWLFzF8+HC5Xbp0ScbfXLBgAe644w65jlpOTg6++OILGY6pqalJnSaa0cK+mMttulDz0nwczNmmxX1zQ8vTLB3BhIXSQhDFHe3acZILZ2zbh0gcPw6OC0ewGzmYnaIJul1DZqEYJ3A6PQcTpGexE8e37MEqWbzkVsqxBMtuxG49aDi5ih4G9tenYjbFchRQ4HEKf0TuzhXxJzBne6P2fwvE91LnrkQjXQ99v8SSTrjlCfRz+gW5A0tu4k/53VubZDgfn3WghaPJkgEErPVixS7Ujpc8crsUAXWtWchSBVpvhAPybCf1qLIEl7b7XV1+R0MVZi6Dx/kUMk87K1lbno7d68WKZkOXsFcaVN/FOI9m0b7SRH3uVm1Cq7tY0YZScXIfMHu6cp+KNijbhkC2FdV+CGt9y3Z75ggwXW+DevujdpmJdtVO9TZD7Vm2fb3NyWMs6YRHnlub9gNyI87oeBFzrFYqr1CdZqLtWBKyRP3U76wC5lKd6HVrbWOCjhpLOCRx9Nq3UWBZJNp1zAyN5JbncVy31+c1jJaP8GiLlmL9lHa88q9bcUbffyQFnTUb8dQLFuVvF5orIHzfd9TOl6IOTROzVLs27xEtrxp1Ywp837PkQnULOSWge3KlJcC7R1nKYyjuqsK8X+3rwJ4i3PvzGfikshDNlrKO+d5eJNTtAGYVIlGm1KPu+aXiaez5/9729WOA6++92EX4FZVdxbNDByGFF8NlAuROCv/04IMPShfmt7/9bRkOauDAgfjLX/6CyZMn4wc/+IF0bVIeCbe4uDh87Wtf6yWWNK3jpbh8mqvJdIFRsGBKk0HCqeOU+d46+8DxFcA7bXwc9m/5EK6UHExro6DqQOIQrXN0jM+R4o4sI6trgQmT9LFIjVgh0nSrCQXenmYdIxYzDtNEdy3zxbkxPtNtfI/WIabi9BaRrzp26pTp+41zig69WJ1TdrYQHbjKo2sMF/Z1ECa3ZawQaFDfRcGpRSehGSUqsVx+v7aVi4493zoGaeRNxDQM8C7QxtQZrloz6Lx+Prp+6rDUuYOKL+mBqHMzooLp7nSMTxWi6QgaRP5sIdBX13bCQTF9JMmYTeJO1qv4n5RMYzwZBfjX65vymj3aUNp0IfCM9pDs3v4E1jajCTEh4BaItq6OoXOSyJPntLZHyqP7gdLDRjqyhlTLekmfS6Kd6iMJybmaGKGYlHqdywDeajyhFAB6O6G8BpksoTrPbzGPKz+dgaVGW5mKETEu1F2yEZCXP8DZQRmYNkjt2zD6a/FAa7MUaKOfeU4KtjdrriFmcLiev/b3nUMINP15SsHWrfeIY2IB4p2qTI4BWQV2sQ0UuitUbVQHhbo3WAq0JPPeEZsu0HzXAdWrPv7TsnmOE/VB4qx/Qau0ts1Anfh9I7p1hU5F4o9JsGnHHH3+RbR8YxkSPSylFYe/is60GwGP1WWYOylWZ2trq9qFDA21YcMGGeKpubkZ169fx6ZNm+ByuTBq1CgZNoosab2CokybuHzhw5e701V7QlkLGrHf0zJ14YhhaThcdx6uuFgl7tzHuZHFw+x4Ccu5mk5hgdUiIcTgLtlZ6lY5IgYPpotzjJ/l5ZzJGJvSiePvaBaWvol4+9eFUn0bXLHxGCl33B/uZBlzDNFyiKJhn6HzSn+1pzMFU8c4UC86Gv/e4EOEL3fnhROqnr3VoUh7S2+LjTh5IQZxQ+SOxzg3spjF4uuWCQFmuwU2b99qsarGYMKCxzXBr6xykrGp4hxCFHo55+SMVDiM64wEQiBXqfpuqLa8hJEbuh7VlqDhlSeELElIFrW6GJlpluPc0OrcMbHER1sR5x3UhIvX1K5XzqLNNr8rD/1HOX4y+F0s+detsOjFyCNepnShdLbF5XaPWPMOHamDS5Zld9CLtHnfkWUsaZh21OLMdLiOrfPy4mxXB7rI9Nj8fDm6/t52cadodP7eD1fosFwMuceBexfrY9yewr1if6Dl/pEc6I8r6iPDBIIxJo1idTocoqGLzRv9+/eXFjZyeTKRY3LuZEyA2SmTdcRvhPAjy9vsLpMXRIetWzL0zdrJ3oZMKV2KLJiTF0yLWF8nGaunJ1teLI4EIAKoHZHlbVbXyQvkTrW2L7cXhd6OxTIaoAgIlDP/rw24Nx9Trm7Ekn/Txl2kDR6Ezqvn5efezuK1BUg3rOjuFkt7fNVBzyxpQfFxDWqV9U3fzr2v8himh0iRRuKLxppdu3ZNujO9Qent7e34+9//rlJ6AdJSkoGpcl463bxexghFIQsnjRPXflFaPdLjY4D2DmUBScYcy9ghfyBX1u72cVhhLOVAswZjMOFhb7NOO9DeGYMxGdp3kFvUOjatR5DrQjwsA13GIFKMHCJeTozJC4tRaB1jJqi4fBdihn6u9nQOobFV1FGm6gDEb+w6xi4KSboP01IacVKOHYtFomgT7S1a1uTcTMv4R39oxIotHyJxumU5Dpr5nJLjddbp4ZYOICVVuVPJLWodm9YT9M7ZPoC4yVm0dVjddeL43HS4Th8UtUp5DmTkaHnkWjPHplGdO5BV5GspCbKSJWGErSvTH2ubYtNpnMM1nPlf5Xyc8jim3GvZ74a8F96E0+nEaz9SCRFicUEWIMvSjilIThByq0W9+OeWId/S+Miy6ZhY6KU+7eqgZ5Y035jWsZjvmePPcPkiXPdkYVR3btG8zzG0ox8+UrsM4y9SpNG4syVLluCJJ57AqlWrZAbxzDPPyIDr5OKkSQUUhJ0+L1u2DEePHlX/FcU4S7GOxkaspId3CeKd5agRfUS48TUmzRZyTapjaHyP7lLa/I42hk3Ly0R7beAWr83b9+B4HJ1DGxck9+FtXFMnVr1F49o0VyhNPAjIchdSdDcICWvxQJZ1qK8xFmyebyqrauBKKxD/S/+fj7ZjHp3g2X5ex5RULqtCvX4cDYqOxDIDPsak2aO5JuUxckyYcos3ncL+C2beivjzOB5olZObfV+HPIdcU0/uN3q/D04ekePaNFcoTTwIxHIXSqgzr0KT4TIrQVZrlZoYIPIqagCVV6LGtOlULhPPEWShRB6nbeZ6YgdxsVMIvOE2nfawf8HIa234q9q15wDKX6nH6J+oJTh+ko4zr6zCJj/96wcuaebLpOH+Ti0M7v6RGPePNp5Pn2Shv6DJCQCxqtzkemminJ0kxFQdrIxHndWCXbFclHsSCtQ5adPL2b4OQk0FLr/nQuIszaU54uoOnPtYZYm8c5WirXzrKWNJj+yfrxN3mztFkz9FTGt/8d8MExgcFsonwczuZAKZ3dnbKF9/EQ9dGY6xpf1USs8IanYnE8DszluEXLQ2HnurlmKDSjLxMYvTZ7qf+JzduQSvOecD23Pxw/9USWFATqARYjZcbt/eDfclTPAYY9IYhrFHW+/oEg4UqwSG8QYtWluXhHleIgDkjlmGb3XuCE6IBciSCiecERBojD3a+opxLNCYoGCRZssneKDER1goxh09LFRJaxdTf99hAPLKEzBU/NaQeVaGF2ohfWxWoWc09LBQ84arhCjGeboQ2zuz8F3rUgy0yG1yHX5pYzkdmR1kWKjsrqNt1xflIjeXBdotpbgTjyIxZNZ35vaD3Z0MwzAMwzBRCFvSGIZhGIZhohAWaQzDMAzDMFEIizSGYRiGYZgohEUawzAMwzBMFHKbiTRaqLHrwowUTFlfENEMH0Jr29DMTh+zO2W8Q8sq6+GCvqebBXEpwLW3/6F1vbTrv4iTZTdVqp/oC1DKzbqKu1rZXS5GaWItQ89FJe3yes5NvP6Hi12XxQhl/fhRB5FFxXM1okiEgNwybBP1E5qIENbQPH4uhNpnoPbIs8EZhgkNbEkTYqQgwYzZ6L4Y40C8Wz4CKfleFiGk0Dfqow6FUTJWWJebtsJ/uKlv875EfMkSuvYReCPgJd2FmJ2bZImNtxzdLVFZuYz+z3tEB7u8nlK+/hIeaE1E3kaVoOOrftyEjSZ2/FuxP5qg0F7qY1Sih+apQgTiL9hQhHuNVeCtW9cV4UNHPzy28au4r6SzS3QKhmGYQLntRdqUYUmWmI0hwBJYWgY3j5BQCym5yUhCExrdly5XqA74sdLQlVmw0BpECQn4xZIBKoEJGmcp5gtBboTy6RNU4JwKeF37npDsDTtUAOylQuaGkQMOvHr0Mzy6/oZKYBiGCY7bYJ00cnFaA6u7UPPSfBzM2eYlGLaWVyrFSeChPMhSQ/Eu52zX42uSpWYW4o5uxQoZzPo+bLEElG7Yp9IJjzxX7R4tfie52rLbsbriFA5TQGoh+tLQiN0vq9iLfuB3OCNyea3MMq5Bx3WsXOu8yQVK8feIhiovIWDIzUUxUmdieZf1Or3lUd1kou1YErJUXRjfJZChZix1ZM3T3EqXMPTAiK5WNB/Y1c+uIbNQjPNoHj9OBRi3lLFNHdSLc/o8TkCuaDNIvcqj840+b7kOgq5lMvDWHvxt0uMY2/YhEsU55a/v/FB9d3ggd7QeQLx+p5/1Q22lCKg+nYECL3WnQcfno824pzSs30e4fadHG/TdHupR5YeFV2fAjB0YP3gvjv7e0jDvX4fsjA9Qh0JkqOtp3jMD594XtfE9itH4Ik7t1UJPedvXj8HHNah99TnxxLDCoYAYhuk5fdySpgk0iE5Ac9uZ7pdDZfNlmgycTIJD5rt3Jj1Hc0slDiHniujcF8Rhv7KyzRGdNaYrK5sSaM1CtOlWOD3AuokmDiD/x3+BFhDKmjLzpRohV6kT1MrN6HgrlptlFjLSkTWmTnM3i+/FxEJRaxp6HWkbBcM284DPMTT2Hhz3U6D5g0OIIq18t8og4NMoWLgb3uvA13FSoMHDskpj28gVGxcrx7jR/2ju1ljExXTgb1o8bKSNpyDodJwWDH9OGF2y9u5o3/VDwbILKF6jtzwbtO9TmzguSQgzORJOCbQm4361tD3xgiBjQ+rH7QQK1PhRtzGl+uYxZtInaYVIqNOsbUf31CNx0ip0Z5clwUeCTbPKzUDtXzMwaoZnQPUBON7wCe6bHOBYUIZhGAt9W6QVZSK9owY7ulh1bgFjU5EmOvnZlvFqaaJj/noSMDkjFY4LR0yrmicx47DiyUy0i07b5//0WlyoqVCuU2cjmpCEZH2gudvkBbKGWvLyhEjr6IeP1G5IsNQBjfNzxMdqO4RdHXg9LgZfj+vE8XdMa9nhuvNwxcQhvakDzfSX/qdN5I9OFkI9Fomd7cZLhKv2MFZJwWYV+rcCm/ohIa9bU50HUddhzfMNWcSMeiWrWWw8RlJ6TgYc4oWpqxVWCLHMdCGoCszjyKKbkCyFmJvo0zd/3fEf1+Dy++rz+0txtItFzJOpuOcbDtz9raeMMW7jvyX2B9MvcOejKwPVJ4ZhmODgiQNhhTpqoLlFWcUs49W0bY/qiLuB3F37OjBhQS8c3xY0i7FGdMTkCtM63nANQu9Ee4v6aEdI66AD7dQkkkYgDidwEqlYOCQOjvaOsLk0o4bcMiydCHNSirTa+ofZFtSmhFiPLGlB4cK5SmV90zerG5VhGCZE9G2RVt8GV2wGpsq3exoTZR2bFn4WzpuFCfgQu8jKQi6ulByvMwmlhSUl0365iJNHTHeZSuoZ5AoOd2fWA+TkBRfalDKbUprvXncH+uNK7E2MUrv+cLilA0gRgkjtY2wmJlhcjN0SUB2QBSwGEyaZs0kXThoHx4Xz2CzzYjF2Uhza6zpFMxWfR4uuvy0E019/9BqcTifefCHCa0AUFSILdTjY3XCB9Hg4LJNSFheY488OHamDKy3f65IdZ1tcSJ9rXQrGpEeWNBsM69j968zxZziIT9scuHde927RUUM/wZXLHFibYZjg6dsizVmKdceArJX0dk2D1sOzDIQbQojpS3DI8Uj6gO+mU1iwrxFp03V3p9j0zl7mkZXGzNvSZTyUEBnOPdjdTm63CKzP5gXdTSUHb+uuJzkuSF8XqwRZsaIfnkuf9TXR7PJsEHVX3eBQdSe+c0idR90JkdbxMSZ4ro9mhy6y9PKfHovjWwIb3xdIHWzevgfH4yztIe5DrLZMWkhLgRSIJNITU5JNi2tP+KgV18Wfu4d+Q9vvliDrR5KOAmoDtM0FqgxhpF4ApItar0O1XlrFDlGP5nH5LTWmhZTGRO5sMuqcNn3dNhqfWNVg+T5LXjjodNbgelqh5tKc1IY6mh2q6Pz9izgnJOl4Y0mPvbj3fpVpcAMT0gbiylm1yzAMEwS3wezOYOk7s7P8nt3Z2yjuxIW8fvjFdx1gZ5NOHv595zP457oX8MgzYWy4cpB/PKoDmGF5O1FUdhXPDh2EFF4ehmGYHsBj0pjey8YYvNHaimd5PSpJ3gtvwumMgEBj7Mlz4cfZd+ENFmgMw/QQFmm2fIIHSnyEheoF6GGhHrWsSdXXKFkyHO8mXOMwPIIDzzyC3NxcFmi3lJt4vfhTnCqPQYlKYRiGCRZ2dzIMwzAMw0QhbEljGIZhGIaJQlikMQzDMAzDRCEs0hiGYRiGYaIQFmkMwzAMwzBRCIs0hmEYhmGYKIRFGsMwDMMwTBTCIo1hGIZhGCYKYZHGMAzDMAwThbBIYxiGYRiGiUKCjjjAMAzDMAzDhA+2pDEMwzAMw0QdwP8Hyb7JVpXqEb8AAAAASUVORK5CYII=)\n",
        "\n",
        "\n",
        "  2.2.2 Improve how to impute “Age”. Rather than just using an average for the\n",
        "  \n",
        "   whole passengers, we should impute age differently for each passenger class (Pclass).\n",
        "  \n",
        "![image.png](data:image/png;base64,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)\n",
        "\n",
        "2.3 Some variables should be dropped manually.\n",
        "\n",
        "drop ticket กับ name passenger ไป เพราะไม่ได้มีประโยชน์ต่อการทำนาย\n",
        "\n",
        "\n",
        "2.4 Evaluate and compare these improvements in 2.1-2.2 to the simple model in Demo which are applied 2 variables i.e. Age, Sex.  Student can report in terms of Macro F1; which one is better?\n",
        "\n",
        "model ที่ไม่ได้ทำการปรับ การคำนวณmean ตาม2.2 มี macro avg F1 score = 0.7530\n",
        "model ที่ทำการปรับกาาคำนวณ mean age มี macro avg F1 score =0.7612\n",
        "ดังนั้นการปรับการคำนวณ mean age แบ่งตาม Pclass มีค่าmacro avg F1 ดีกว่า 0.0082\n",
        "\n",
        "  \n",
        "2.5 Compute odds ratio for “Age” and Explain (Hint อายุเพิ่ม 1 ปี ส่งผลให้ค่า odd เพิ่มขึ้น/ลดลง กี่ %)\n",
        "\n",
        "  exp(w1)=exp(-0.03965993) = 0.961 = (-3.9%)\n",
        "  ทุกอายุที่เพิ่ม 1ปี โอกาสที่ตายจะเพิ่มขึ้น 3.9 %"
      ],
      "metadata": {
        "id": "xE3BKUWytllS"
      }
    },
    {
      "cell_type": "markdown",
      "source": [],
      "metadata": {
        "id": "Qg74oES0GxwU"
      }
    }
  ]
}